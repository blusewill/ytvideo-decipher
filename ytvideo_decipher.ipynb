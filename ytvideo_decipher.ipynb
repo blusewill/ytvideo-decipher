{
  "nbformat": 4,
  "nbformat_minor": 0,
  "metadata": {
    "colab": {
      "provenance": [],
      "gpuType": "T4",
      "collapsed_sections": [
        "_fZCcr0TgQoV"
      ],
      "authorship_tag": "ABX9TyOKImPsjsko49hno/W9cxN/",
      "include_colab_link": true
    },
    "kernelspec": {
      "name": "python3",
      "display_name": "Python 3"
    },
    "language_info": {
      "name": "python"
    },
    "accelerator": "GPU",
    "gpuClass": "standard"
  },
  "cells": [
    {
      "cell_type": "markdown",
      "metadata": {
        "id": "view-in-github",
        "colab_type": "text"
      },
      "source": [
        "<a href=\"https://colab.research.google.com/github/blusewill/ytvideo-decipher/blob/dev/ytvideo_decipher.ipynb\" target=\"_parent\"><img src=\"https://colab.research.google.com/assets/colab-badge.svg\" alt=\"Open In Colab\"/></a>"
      ]
    },
    {
      "cell_type": "markdown",
      "source": [
        "# ytvideo-decipher\n",
        "\n",
        "The Project that is kinda fork to the [ytvideo-whisper](https://github.com/blusewill/ytvideo-whisper)\n",
        "\n",
        "Uses the [Decipher Project](https://github.com/dsymbol/decipher)"
      ],
      "metadata": {
        "id": "hzi0fFaQfggE"
      }
    },
    {
      "cell_type": "markdown",
      "source": [
        "# Usage\n",
        "\n",
        "1. Check the Runtime Type is on GPU Mode in ``Runtime -> Change Runtime Type ``\n",
        "1. Change the Settings at Settings Code Block\n",
        "1. Click ``Runtime -> Run all`` (CTRL+F9)\n",
        "1. Click on the Connect to Google Drive\n",
        "1. And Wait for a moment your Generated Srt should be on ``Google Drive -> Decipher -> result``"
      ],
      "metadata": {
        "id": "bEonLe8Zsr0h"
      }
    },
    {
      "cell_type": "markdown",
      "source": [
        "## Add Google Drive Access \n",
        "(at Google Drive/Decipher)"
      ],
      "metadata": {
        "id": "TDDTv7lzgeWN"
      }
    },
    {
      "cell_type": "code",
      "source": [
        "from google.colab import drive\n",
        "import os\n",
        "\n",
        "path = '/content/gdrive/MyDrive/decipher'\n",
        "drive.mount('/content/gdrive')\n",
        "\n",
        "if not os.path.exists(path):\n",
        "  os.mkdir(path)"
      ],
      "metadata": {
        "id": "TyweSbjSgib8",
        "colab": {
          "base_uri": "https://localhost:8080/"
        },
        "outputId": "86ab2bb4-d4fe-4394-9d8c-1d50eeaadca8"
      },
      "execution_count": null,
      "outputs": [
        {
          "output_type": "stream",
          "name": "stdout",
          "text": [
            "Mounted at /content/gdrive\n"
          ]
        }
      ]
    },
    {
      "cell_type": "markdown",
      "source": [
        "## Install Decipher"
      ],
      "metadata": {
        "id": "_fZCcr0TgQoV"
      }
    },
    {
      "cell_type": "code",
      "source": [
        "! nvidia-smi\n",
        "! apt update && apt install ffmpeg fonts-open-sans\n",
        "! pip install git+https://github.com/dsymbol/decipher\n",
        "! pip install yt-dlp"
      ],
      "metadata": {
        "id": "A2yq4mAmgP1z",
        "colab": {
          "base_uri": "https://localhost:8080/"
        },
        "outputId": "06d03b55-972c-45ca-b190-e864935f67c4"
      },
      "execution_count": null,
      "outputs": [
        {
          "output_type": "stream",
          "name": "stdout",
          "text": [
            "Mon May 22 04:16:36 2023       \n",
            "+-----------------------------------------------------------------------------+\n",
            "| NVIDIA-SMI 525.85.12    Driver Version: 525.85.12    CUDA Version: 12.0     |\n",
            "|-------------------------------+----------------------+----------------------+\n",
            "| GPU  Name        Persistence-M| Bus-Id        Disp.A | Volatile Uncorr. ECC |\n",
            "| Fan  Temp  Perf  Pwr:Usage/Cap|         Memory-Usage | GPU-Util  Compute M. |\n",
            "|                               |                      |               MIG M. |\n",
            "|===============================+======================+======================|\n",
            "|   0  Tesla T4            Off  | 00000000:00:04.0 Off |                    0 |\n",
            "| N/A   60C    P8    10W /  70W |      0MiB / 15360MiB |      0%      Default |\n",
            "|                               |                      |                  N/A |\n",
            "+-------------------------------+----------------------+----------------------+\n",
            "                                                                               \n",
            "+-----------------------------------------------------------------------------+\n",
            "| Processes:                                                                  |\n",
            "|  GPU   GI   CI        PID   Type   Process name                  GPU Memory |\n",
            "|        ID   ID                                                   Usage      |\n",
            "|=============================================================================|\n",
            "|  No running processes found                                                 |\n",
            "+-----------------------------------------------------------------------------+\n",
            "Get:1 https://cloud.r-project.org/bin/linux/ubuntu focal-cran40/ InRelease [3,622 B]\n",
            "Hit:2 https://developer.download.nvidia.com/compute/cuda/repos/ubuntu2004/x86_64  InRelease\n",
            "Hit:3 http://ppa.launchpad.net/c2d4u.team/c2d4u4.0+/ubuntu focal InRelease\n",
            "Get:4 http://security.ubuntu.com/ubuntu focal-security InRelease [114 kB]\n",
            "Hit:5 http://archive.ubuntu.com/ubuntu focal InRelease\n",
            "Get:6 http://archive.ubuntu.com/ubuntu focal-updates InRelease [114 kB]\n",
            "Hit:7 http://ppa.launchpad.net/cran/libgit2/ubuntu focal InRelease\n",
            "Hit:8 http://ppa.launchpad.net/deadsnakes/ppa/ubuntu focal InRelease\n",
            "Hit:9 http://ppa.launchpad.net/graphics-drivers/ppa/ubuntu focal InRelease\n",
            "Get:10 http://security.ubuntu.com/ubuntu focal-security/universe amd64 Packages [1,049 kB]\n",
            "Get:11 http://archive.ubuntu.com/ubuntu focal-backports InRelease [108 kB]\n",
            "Hit:12 http://ppa.launchpad.net/ubuntugis/ppa/ubuntu focal InRelease\n",
            "Get:13 http://archive.ubuntu.com/ubuntu focal-updates/main amd64 Packages [3,175 kB]\n",
            "Get:14 http://security.ubuntu.com/ubuntu focal-security/main amd64 Packages [2,699 kB]\n",
            "Get:15 http://security.ubuntu.com/ubuntu focal-security/restricted amd64 Packages [2,240 kB]\n",
            "Get:16 http://archive.ubuntu.com/ubuntu focal-updates/universe amd64 Packages [1,344 kB]\n",
            "Fetched 10.8 MB in 4s (3,058 kB/s)\n",
            "Reading package lists... Done\n",
            "Building dependency tree       \n",
            "Reading state information... Done\n",
            "27 packages can be upgraded. Run 'apt list --upgradable' to see them.\n",
            "Reading package lists... Done\n",
            "Building dependency tree       \n",
            "Reading state information... Done\n",
            "ffmpeg is already the newest version (7:4.2.7-0ubuntu0.1).\n",
            "The following NEW packages will be installed:\n",
            "  fonts-open-sans\n",
            "0 upgraded, 1 newly installed, 0 to remove and 27 not upgraded.\n",
            "Need to get 575 kB of archives.\n",
            "After this operation, 2,890 kB of additional disk space will be used.\n",
            "Get:1 http://archive.ubuntu.com/ubuntu focal/universe amd64 fonts-open-sans all 1.11-1 [575 kB]\n",
            "Fetched 575 kB in 1s (403 kB/s)\n",
            "Selecting previously unselected package fonts-open-sans.\n",
            "(Reading database ... 122531 files and directories currently installed.)\n",
            "Preparing to unpack .../fonts-open-sans_1.11-1_all.deb ...\n",
            "Unpacking fonts-open-sans (1.11-1) ...\n",
            "Setting up fonts-open-sans (1.11-1) ...\n",
            "Processing triggers for fontconfig (2.13.1-2ubuntu3) ...\n",
            "Looking in indexes: https://pypi.org/simple, https://us-python.pkg.dev/colab-wheels/public/simple/\n",
            "Collecting git+https://github.com/dsymbol/decipher\n",
            "  Cloning https://github.com/dsymbol/decipher to /tmp/pip-req-build-5l_9no7d\n",
            "  Running command git clone --filter=blob:none --quiet https://github.com/dsymbol/decipher /tmp/pip-req-build-5l_9no7d\n",
            "  Resolved https://github.com/dsymbol/decipher to commit bdb676ced6355fbedc98024528452bbe849ae32c\n",
            "  Preparing metadata (setup.py) ... \u001b[?25l\u001b[?25hdone\n",
            "Collecting openai-whisper==20230314 (from decipher==0.0.0)\n",
            "  Downloading openai-whisper-20230314.tar.gz (792 kB)\n",
            "\u001b[2K     \u001b[90m━━━━━━━━━━━━━━━━━━━━━━━━━━━━━━━━━━━━━━\u001b[0m \u001b[32m792.9/792.9 kB\u001b[0m \u001b[31m50.3 MB/s\u001b[0m eta \u001b[36m0:00:00\u001b[0m\n",
            "\u001b[?25h  Installing build dependencies ... \u001b[?25l\u001b[?25hdone\n",
            "  Getting requirements to build wheel ... \u001b[?25l\u001b[?25hdone\n",
            "  Preparing metadata (pyproject.toml) ... \u001b[?25l\u001b[?25hdone\n",
            "Requirement already satisfied: click==8.1.3 in /usr/local/lib/python3.10/dist-packages (from decipher==0.0.0) (8.1.3)\n",
            "Collecting ffpb==0.4.1 (from decipher==0.0.0)\n",
            "  Downloading ffpb-0.4.1-py2.py3-none-any.whl (6.2 kB)\n",
            "Requirement already satisfied: tqdm in /usr/local/lib/python3.10/dist-packages (from decipher==0.0.0) (4.65.0)\n",
            "Requirement already satisfied: triton==2.0.0 in /usr/local/lib/python3.10/dist-packages (from openai-whisper==20230314->decipher==0.0.0) (2.0.0)\n",
            "Requirement already satisfied: numba in /usr/local/lib/python3.10/dist-packages (from openai-whisper==20230314->decipher==0.0.0) (0.56.4)\n",
            "Requirement already satisfied: numpy in /usr/local/lib/python3.10/dist-packages (from openai-whisper==20230314->decipher==0.0.0) (1.22.4)\n",
            "Requirement already satisfied: torch in /usr/local/lib/python3.10/dist-packages (from openai-whisper==20230314->decipher==0.0.0) (2.0.1+cu118)\n",
            "Requirement already satisfied: more-itertools in /usr/local/lib/python3.10/dist-packages (from openai-whisper==20230314->decipher==0.0.0) (9.1.0)\n",
            "Collecting tiktoken==0.3.1 (from openai-whisper==20230314->decipher==0.0.0)\n",
            "  Downloading tiktoken-0.3.1-cp310-cp310-manylinux_2_17_x86_64.manylinux2014_x86_64.whl (1.7 MB)\n",
            "\u001b[2K     \u001b[90m━━━━━━━━━━━━━━━━━━━━━━━━━━━━━━━━━━━━━━━━\u001b[0m \u001b[32m1.7/1.7 MB\u001b[0m \u001b[31m82.0 MB/s\u001b[0m eta \u001b[36m0:00:00\u001b[0m\n",
            "\u001b[?25hCollecting ffmpeg-python==0.2.0 (from openai-whisper==20230314->decipher==0.0.0)\n",
            "  Downloading ffmpeg_python-0.2.0-py3-none-any.whl (25 kB)\n",
            "Requirement already satisfied: future in /usr/local/lib/python3.10/dist-packages (from ffmpeg-python==0.2.0->openai-whisper==20230314->decipher==0.0.0) (0.18.3)\n",
            "Requirement already satisfied: regex>=2022.1.18 in /usr/local/lib/python3.10/dist-packages (from tiktoken==0.3.1->openai-whisper==20230314->decipher==0.0.0) (2022.10.31)\n",
            "Requirement already satisfied: requests>=2.26.0 in /usr/local/lib/python3.10/dist-packages (from tiktoken==0.3.1->openai-whisper==20230314->decipher==0.0.0) (2.27.1)\n",
            "Requirement already satisfied: cmake in /usr/local/lib/python3.10/dist-packages (from triton==2.0.0->openai-whisper==20230314->decipher==0.0.0) (3.25.2)\n",
            "Requirement already satisfied: filelock in /usr/local/lib/python3.10/dist-packages (from triton==2.0.0->openai-whisper==20230314->decipher==0.0.0) (3.12.0)\n",
            "Requirement already satisfied: lit in /usr/local/lib/python3.10/dist-packages (from triton==2.0.0->openai-whisper==20230314->decipher==0.0.0) (16.0.5)\n",
            "Requirement already satisfied: llvmlite<0.40,>=0.39.0dev0 in /usr/local/lib/python3.10/dist-packages (from numba->openai-whisper==20230314->decipher==0.0.0) (0.39.1)\n",
            "Requirement already satisfied: setuptools in /usr/local/lib/python3.10/dist-packages (from numba->openai-whisper==20230314->decipher==0.0.0) (67.7.2)\n",
            "Requirement already satisfied: typing-extensions in /usr/local/lib/python3.10/dist-packages (from torch->openai-whisper==20230314->decipher==0.0.0) (4.5.0)\n",
            "Requirement already satisfied: sympy in /usr/local/lib/python3.10/dist-packages (from torch->openai-whisper==20230314->decipher==0.0.0) (1.11.1)\n",
            "Requirement already satisfied: networkx in /usr/local/lib/python3.10/dist-packages (from torch->openai-whisper==20230314->decipher==0.0.0) (3.1)\n",
            "Requirement already satisfied: jinja2 in /usr/local/lib/python3.10/dist-packages (from torch->openai-whisper==20230314->decipher==0.0.0) (3.1.2)\n",
            "Requirement already satisfied: urllib3<1.27,>=1.21.1 in /usr/local/lib/python3.10/dist-packages (from requests>=2.26.0->tiktoken==0.3.1->openai-whisper==20230314->decipher==0.0.0) (1.26.15)\n",
            "Requirement already satisfied: certifi>=2017.4.17 in /usr/local/lib/python3.10/dist-packages (from requests>=2.26.0->tiktoken==0.3.1->openai-whisper==20230314->decipher==0.0.0) (2022.12.7)\n",
            "Requirement already satisfied: charset-normalizer~=2.0.0 in /usr/local/lib/python3.10/dist-packages (from requests>=2.26.0->tiktoken==0.3.1->openai-whisper==20230314->decipher==0.0.0) (2.0.12)\n",
            "Requirement already satisfied: idna<4,>=2.5 in /usr/local/lib/python3.10/dist-packages (from requests>=2.26.0->tiktoken==0.3.1->openai-whisper==20230314->decipher==0.0.0) (3.4)\n",
            "Requirement already satisfied: MarkupSafe>=2.0 in /usr/local/lib/python3.10/dist-packages (from jinja2->torch->openai-whisper==20230314->decipher==0.0.0) (2.1.2)\n",
            "Requirement already satisfied: mpmath>=0.19 in /usr/local/lib/python3.10/dist-packages (from sympy->torch->openai-whisper==20230314->decipher==0.0.0) (1.3.0)\n",
            "Building wheels for collected packages: decipher, openai-whisper\n",
            "  Building wheel for decipher (setup.py) ... \u001b[?25l\u001b[?25hdone\n",
            "  Created wheel for decipher: filename=decipher-0.0.0-py3-none-any.whl size=5475 sha256=1b2a9f21463d7e0b511430ca1a9213cd2bf68a2f683c6b3f838af06e3ca8f8fe\n",
            "  Stored in directory: /tmp/pip-ephem-wheel-cache-skl_6sod/wheels/d9/7c/91/14fc6f2e88acfc197caf86366643c916abfee17c4555a74670\n",
            "  Building wheel for openai-whisper (pyproject.toml) ... \u001b[?25l\u001b[?25hdone\n",
            "  Created wheel for openai-whisper: filename=openai_whisper-20230314-py3-none-any.whl size=796910 sha256=4a82320b5f5323aefdd4d68165bc79b13e8ba1d7686c37894aa8c78d1732d6cf\n",
            "  Stored in directory: /root/.cache/pip/wheels/b2/13/5f/fe8245f6dc59df505879da4b2129932e342f02a80e6b87f27d\n",
            "Successfully built decipher openai-whisper\n",
            "Installing collected packages: ffpb, ffmpeg-python, tiktoken, openai-whisper, decipher\n",
            "Successfully installed decipher-0.0.0 ffmpeg-python-0.2.0 ffpb-0.4.1 openai-whisper-20230314 tiktoken-0.3.1\n",
            "Looking in indexes: https://pypi.org/simple, https://us-python.pkg.dev/colab-wheels/public/simple/\n",
            "Collecting yt-dlp\n",
            "  Downloading yt_dlp-2023.3.4-py2.py3-none-any.whl (2.9 MB)\n",
            "\u001b[2K     \u001b[90m━━━━━━━━━━━━━━━━━━━━━━━━━━━━━━━━━━━━━━━━\u001b[0m \u001b[32m2.9/2.9 MB\u001b[0m \u001b[31m58.6 MB/s\u001b[0m eta \u001b[36m0:00:00\u001b[0m\n",
            "\u001b[?25hCollecting mutagen (from yt-dlp)\n",
            "  Downloading mutagen-1.46.0-py3-none-any.whl (193 kB)\n",
            "\u001b[2K     \u001b[90m━━━━━━━━━━━━━━━━━━━━━━━━━━━━━━━━━━━━━━\u001b[0m \u001b[32m193.6/193.6 kB\u001b[0m \u001b[31m21.4 MB/s\u001b[0m eta \u001b[36m0:00:00\u001b[0m\n",
            "\u001b[?25hCollecting pycryptodomex (from yt-dlp)\n",
            "  Downloading pycryptodomex-3.18.0-cp35-abi3-manylinux_2_17_x86_64.manylinux2014_x86_64.whl (2.1 MB)\n",
            "\u001b[2K     \u001b[90m━━━━━━━━━━━━━━━━━━━━━━━━━━━━━━━━━━━━━━━━\u001b[0m \u001b[32m2.1/2.1 MB\u001b[0m \u001b[31m67.5 MB/s\u001b[0m eta \u001b[36m0:00:00\u001b[0m\n",
            "\u001b[?25hCollecting websockets (from yt-dlp)\n",
            "  Downloading websockets-11.0.3-cp310-cp310-manylinux_2_5_x86_64.manylinux1_x86_64.manylinux_2_17_x86_64.manylinux2014_x86_64.whl (129 kB)\n",
            "\u001b[2K     \u001b[90m━━━━━━━━━━━━━━━━━━━━━━━━━━━━━━━━━━━━━━\u001b[0m \u001b[32m129.9/129.9 kB\u001b[0m \u001b[31m15.9 MB/s\u001b[0m eta \u001b[36m0:00:00\u001b[0m\n",
            "\u001b[?25hRequirement already satisfied: certifi in /usr/local/lib/python3.10/dist-packages (from yt-dlp) (2022.12.7)\n",
            "Collecting brotli (from yt-dlp)\n",
            "  Downloading Brotli-1.0.9-cp310-cp310-manylinux_2_5_x86_64.manylinux1_x86_64.manylinux_2_12_x86_64.manylinux2010_x86_64.whl (2.7 MB)\n",
            "\u001b[2K     \u001b[90m━━━━━━━━━━━━━━━━━━━━━━━━━━━━━━━━━━━━━━━━\u001b[0m \u001b[32m2.7/2.7 MB\u001b[0m \u001b[31m16.7 MB/s\u001b[0m eta \u001b[36m0:00:00\u001b[0m\n",
            "\u001b[?25hInstalling collected packages: brotli, websockets, pycryptodomex, mutagen, yt-dlp\n",
            "Successfully installed brotli-1.0.9 mutagen-1.46.0 pycryptodomex-3.18.0 websockets-11.0.3 yt-dlp-2023.3.4\n"
          ]
        }
      ]
    },
    {
      "cell_type": "markdown",
      "source": [
        "# Settings"
      ],
      "metadata": {
        "id": "VRuRUqwUUSy1"
      }
    },
    {
      "cell_type": "code",
      "source": [
        "#@markdown # **Video Link Here**\n",
        "# YouTube Link\n",
        "YouTube_Video_Link = \"https://www.youtube.com/watch?v=ju_BSNKeP6w\" #@param {type:\"string\"}\n",
        "# File Name Change\n",
        "new_filename = \"CTT Windows Toolbox Update\" #@param {type:\"string\"}\n",
        "# Audio Language\n",
        "#@markdown # **Transcribe Options**\n",
        "language = \"\" #@param {type:\"string\"}\n",
        "#@markdown Note: Leave it Blank to let it audio Detect the Language\n",
        "# Change it to srt file type\n",
        "new_filename = os.path.splitext(new_filename)[0] + \".srt\"\n",
        "#@markdown # **Translate Options**\n",
        "translate = \"yes\" #@param ['yes','no']\n",
        "translate_to_language = \"chinese\" #@param {type:\"string\"}\n",
        "# Change the Model of the Whisper\n",
        "#@markdown # **Other Options**\n",
        "shutdown_after_complete = \"yes\" #@param ['yes','no']\n",
        "model = \"medium\" #@param ['tiny.en','tiny','base.en','base','small.en','small','medium.en','medium','large-v1','large-v2','large']"
      ],
      "metadata": {
        "id": "dgS0XmHnUWn4"
      },
      "execution_count": null,
      "outputs": []
    },
    {
      "cell_type": "markdown",
      "source": [
        "# Download the YouTube Video using yt-dlp"
      ],
      "metadata": {
        "id": "hKN06IJlM6ql"
      }
    },
    {
      "cell_type": "code",
      "source": [
        "import yt_dlp\n",
        "\n",
        "ydl_opts = {\n",
        "    'format': 'bestaudio/best',\n",
        "    'postprocessors': [{\n",
        "        'key': 'FFmpegExtractAudio',\n",
        "        'preferredcodec': 'aac',\n",
        "        'preferredquality': '192',\n",
        "    }],\n",
        "        'outtmpl': 'content/audio',\n",
        "}\n",
        "with yt_dlp.YoutubeDL(ydl_opts) as ydl:\n",
        "    ydl.download([YouTube_Video_Link])"
      ],
      "metadata": {
        "id": "Pjp5n1YrhV25",
        "colab": {
          "base_uri": "https://localhost:8080/"
        },
        "outputId": "aa1a23c8-7b57-436d-ce99-28201aa6832d"
      },
      "execution_count": null,
      "outputs": [
        {
          "output_type": "stream",
          "name": "stdout",
          "text": [
            "[youtube] Extracting URL: https://www.youtube.com/watch?v=ju_BSNKeP6w\n",
            "[youtube] ju_BSNKeP6w: Downloading webpage\n",
            "[youtube] ju_BSNKeP6w: Downloading android player API JSON\n",
            "[info] ju_BSNKeP6w: Downloading 1 format(s): 251\n",
            "[dashsegments] Total fragments: 1\n",
            "[download] Destination: content/audio\n",
            "[download] 100% of    8.00MiB in 00:00:00 at 75.00MiB/s              \n",
            "[ExtractAudio] Destination: content/audio.m4a\n",
            "Deleting original file content/audio (pass -k to keep)\n"
          ]
        }
      ]
    },
    {
      "cell_type": "markdown",
      "source": [
        "# Transcribe/Translate the Video"
      ],
      "metadata": {
        "id": "-i6ak-UHNASv"
      }
    },
    {
      "cell_type": "code",
      "source": [
        "if translate.lower() == \"no\":\n",
        "\n",
        "  input = \"content/audio.m4a\"\n",
        "  output_dir = \"/content/gdrive/MyDrive/decipher/result\"\n",
        "  task = \"transcribe\"\n",
        "  subtitle_action = \"None\"\n",
        "\n",
        "  from decipher.action import transcribe\n",
        "  import os\n",
        "\n",
        "  transcribe(\n",
        "    input, \n",
        "    output_dir,\n",
        "    model,\n",
        "    language if language else None,\n",
        "    task,\n",
        "    subtitle_action if subtitle_action != \"None\" else None\n",
        "    )\n",
        "  \n",
        "elif translate.lower() == \"yes\":\n",
        "\n",
        "  input = \"content/audio.m4a\"\n",
        "  output_dir = \"/content/gdrive/MyDrive/decipher/result\"\n",
        "  language = \"\"\n",
        "  task = \"translate\"\n",
        "  subtitle_action = \"None\"\n",
        "\n",
        "  from decipher.action import transcribe\n",
        "  import os\n",
        "  transcribe(\n",
        "    input, \n",
        "    output_dir,\n",
        "    model,\n",
        "    translate_to_language if translate_to_language else None,\n",
        "    task,\n",
        "    subtitle_action if subtitle_action != \"None\" else None\n",
        "  )\n",
        "  \n",
        "else:\n",
        "  print(\"There is no Selected Options. Shutting down the Runtime\")\n",
        "  from google.colab import runtime\n",
        "  runtime.unassign()\n"
      ],
      "metadata": {
        "colab": {
          "base_uri": "https://localhost:8080/"
        },
        "id": "Lf-sGFcgNIWH",
        "outputId": "dfd3e180-eb4c-4a25-fcf1-e252e48d4684"
      },
      "execution_count": null,
      "outputs": [
        {
          "output_type": "stream",
          "name": "stdout",
          "text": [
            "Converting audio.m4a to audio.aac...\n"
          ]
        },
        {
          "output_type": "stream",
          "name": "stderr",
          "text": [
            "audio.m4a: 100%|██████████| 531/531 [00:00<00:00, 124353.74 seconds/s]\n",
            "100%|█████████████████████████████████████| 1.42G/1.42G [00:42<00:00, 35.8MiB/s]\n"
          ]
        },
        {
          "output_type": "stream",
          "name": "stdout",
          "text": [
            "[00:00.000 --> 00:05.000]  This Windows Utility is something I've been working on for the past three years\n",
            "[00:05.000 --> 00:08.000]  and we just went through a major update.\n",
            "[00:08.000 --> 00:14.000]  A lot of people have contributed and I just want to say thank you to everyone that's gone over to cttstore.com\n",
            "[00:14.000 --> 00:19.000]  and grabbed the Windows Toolbox that helps support the continued development of the project.\n",
            "[00:19.000 --> 00:23.000]  But with that, let's just tackle what it is.\n",
            "[00:23.000 --> 00:27.000]  Basically, this is Night Knight on steroids when you first get to the install page.\n",
            "[00:27.000 --> 00:33.000]  You can install all these applications and there's been a couple really cool feature additions with this update.\n",
            "[00:33.000 --> 00:37.000]  Obviously, you can just select whatever it is,\n",
            "[00:37.000 --> 00:42.000]  but let's say you want to repeat these selections on another machine.\n",
            "[00:42.000 --> 00:45.000]  And you're like, hey, I like all these selections.\n",
            "[00:45.000 --> 00:48.000]  You can export this file, just name it whatever you want down here.\n",
            "[00:48.000 --> 00:51.000]  You can put DEV or whatever.\n",
            "[00:51.000 --> 00:56.000]  Clear the selections and then you can import those selections on a new machine.\n",
            "[00:56.000 --> 01:02.000]  If you have that file, it makes it really easy for selecting all of your programs over and over\n",
            "[01:02.000 --> 01:06.000]  or possibly doing VMs, whatever it is that you're doing it for.\n",
            "[01:06.000 --> 01:08.000]  Another thing is Git installed.\n",
            "[01:08.000 --> 01:09.000]  You can click that.\n",
            "[01:09.000 --> 01:15.000]  It queries everything in the background and it tells you everything that's installed that you can update through WinGit.\n",
            "[01:15.000 --> 01:19.000]  So all these programs are everything I have installed on my system.\n",
            "[01:19.000 --> 01:21.000]  Pretty cool, right?\n",
            "[01:21.000 --> 01:24.000]  So that's a neat way to get that.\n",
            "[01:24.000 --> 01:29.000]  And you can even uninstall directly from here too now, which is nice.\n",
            "[01:29.000 --> 01:34.000]  And then we have an upgrade all function and then install has always been there.\n",
            "[01:34.000 --> 01:37.000]  As far as the tweaks go, there's been some changes over here.\n",
            "[01:37.000 --> 01:40.000]  A couple more more bug fixes than anything.\n",
            "[01:40.000 --> 01:45.000]  Just recently on the live stream over on Twitch, we did the performance profile.\n",
            "[01:45.000 --> 01:49.000]  So this, when we click add, let's say you click add a whole bunch\n",
            "[01:49.000 --> 01:54.000]  and really just kind of bloat up your old school power profile in here.\n",
            "[01:54.000 --> 01:57.000]  You can see ultimate performance is down here.\n",
            "[01:57.000 --> 02:01.000]  And a lot of people are like, hey, I want to get rid of ultimate performance.\n",
            "[02:01.000 --> 02:03.000]  Or let's say you go to high performance.\n",
            "[02:03.000 --> 02:04.000]  How do you get rid of it?\n",
            "[02:04.000 --> 02:05.000]  You click remove.\n",
            "[02:05.000 --> 02:08.000]  And then when you come back to here, you'll see it's still there.\n",
            "[02:08.000 --> 02:10.000]  Let's just reload it.\n",
            "[02:10.000 --> 02:12.000]  And now it's gone.\n",
            "[02:12.000 --> 02:15.000]  Makes it really easy to add these things.\n",
            "[02:15.000 --> 02:17.000]  I honestly like ultimate performance.\n",
            "[02:17.000 --> 02:20.000]  So we're going to come back and select it.\n",
            "[02:20.000 --> 02:21.000]  I highly recommend it.\n",
            "[02:21.000 --> 02:24.000]  If you're on a desktop PC, don't do that on a laptop though.\n",
            "[02:24.000 --> 02:26.000]  Your battery will drain faster.\n",
            "[02:26.000 --> 02:27.000]  You can find a power outlet.\n",
            "[02:27.000 --> 02:28.000]  So don't do that.\n",
            "[02:28.000 --> 02:32.000]  As far as everything else in here, services has been a big thing.\n",
            "[02:32.000 --> 02:36.000]  I've been harping on and working on developing, getting these to where you can click this\n",
            "[02:36.000 --> 02:41.000]  and undo tweaks and get it reverted back to the exact state on startup.\n",
            "[02:41.000 --> 02:43.000]  Earlier in the week, we had some bad commits on that.\n",
            "[02:43.000 --> 02:44.000]  That was my bad.\n",
            "[02:44.000 --> 02:50.000]  And if you run this tool and you had some issues earlier in the week, just know if you run it now, everything's fine.\n",
            "[02:50.000 --> 02:53.000]  Just some quick things there.\n",
            "[02:53.000 --> 02:58.000]  Big updates for this one is Edge we've been working on.\n",
            "[02:58.000 --> 03:02.000]  Pat over on GitHub has been doing a lot of those commits.\n",
            "[03:02.000 --> 03:06.000]  I'll show a lot of the commits coming up here just shortly.\n",
            "[03:06.000 --> 03:11.000]  But another big quality of life is people are running this tool a lot.\n",
            "[03:11.000 --> 03:15.000]  Or let's say you just want it on a desktop or have a shortcut.\n",
            "[03:15.000 --> 03:21.000]  You now have create the shortcut and you can just toss it on your desktop or your documents or wherever you want.\n",
            "[03:21.000 --> 03:24.000]  You can even put it in your start menu if you want.\n",
            "[03:24.000 --> 03:32.000]  And what that does is you can just click it and it will actually run the command through PowerShell for you,\n",
            "[03:32.000 --> 03:38.000]  which makes it a little bit easier to run multiple times as some people don't like pulling up PowerShell with admin.\n",
            "[03:38.000 --> 03:42.000]  As far as the config, not too much has changed here.\n",
            "[03:42.000 --> 03:44.000]  Just some basic quality of life.\n",
            "[03:44.000 --> 03:46.000]  We are adding in a network reset.\n",
            "[03:46.000 --> 03:55.000]  NetSH int IP resets, probably something you've run if you've been in the IT field for any period of time and your network has problems on Windows.\n",
            "[03:55.000 --> 04:00.000]  We will be adding a network fix button coming up in the next update.\n",
            "[04:00.000 --> 04:07.000]  That's something that should, it's actually on the test branch right now, but it hasn't been pushed to live quite yet.\n",
            "[04:07.000 --> 04:15.000]  And as far as updates go, how I work with updates usually is I'll hit security updates and leave my system alone.\n",
            "[04:15.000 --> 04:23.000]  That makes sure I don't get some junk feature or some weather search bar down here on my task bar out of the blue.\n",
            "[04:23.000 --> 04:25.000]  It will only grab security updates.\n",
            "[04:25.000 --> 04:32.000]  But if you want the default out of box and grab all those new features, you can click it and do that.\n",
            "[04:32.000 --> 04:34.000]  I, however, don't like that.\n",
            "[04:34.000 --> 04:36.000]  I like to stick on security.\n",
            "[04:36.000 --> 04:42.000]  And then for the people that really just want to disable everything on updates, you can click this button.\n",
            "[04:42.000 --> 04:44.000]  Don't recommend it though.\n",
            "[04:44.000 --> 04:47.000]  And that is this new features.\n",
            "[04:47.000 --> 04:55.000]  As far as just showing kind of some other bug fixes with the toolbox, if you've run it in the past, we have fixed a ton of different things.\n",
            "[04:55.000 --> 04:58.000]  And I kind of listed it all on my website for this update.\n",
            "[04:58.000 --> 05:00.000]  I'm not going to go over everything here.\n",
            "[05:00.000 --> 05:04.000]  Probably the biggest one that most people will see here is the hover time.\n",
            "[05:04.000 --> 05:08.000]  So when you're hovering over something, it's not immediately showing you that tool tip.\n",
            "[05:08.000 --> 05:10.000]  A lot of people found that annoying.\n",
            "[05:10.000 --> 05:12.000]  So I reverted it back to stock settings.\n",
            "[05:12.000 --> 05:20.000]  The other thing is a lot of times you'd miss your notification bar or the calendar, which is basically the notification bar.\n",
            "[05:20.000 --> 05:25.000]  We made a little undo to easily enable that again through the tweaks page.\n",
            "[05:25.000 --> 05:29.000]  That was just a quick little fix and then just a ton of quality of life here.\n",
            "[05:29.000 --> 05:35.000]  And as far as commits to the main branch, just in the past week, we've seen a ton of different commits.\n",
            "[05:35.000 --> 05:38.000]  Some big ones here is mostly typos and other things.\n",
            "[05:38.000 --> 05:43.000]  So if you were like, again, if you did stuff earlier in the week, you might have noticed, man, things are changing a lot.\n",
            "[05:43.000 --> 05:47.000]  It's mainly the merging of the big test branch.\n",
            "[05:47.000 --> 05:50.000]  And if you look at like, I think it was commit 726.\n",
            "[05:50.000 --> 05:58.000]  Yeah, we had quite a bit of commits all coming from just a variety of contributors to I really wanted to shout out though.\n",
            "[05:58.000 --> 06:01.000]  Was Derp. He's done this developer Derp.\n",
            "[06:01.000 --> 06:09.000]  He's done just such a great job for improving the speed and just kind of put in run spaces and designing a new format.\n",
            "[06:09.000 --> 06:14.000]  So we're doing a compilation and it makes just everything so much more modular.\n",
            "[06:14.000 --> 06:21.000]  I was a little apprehensive to it at first, but I really do love the new structure of when you till where everything's in his module\n",
            "[06:21.000 --> 06:25.000]  and then it gets compiled into that one PS one file people are running.\n",
            "[06:26.000 --> 06:29.000]  It just makes things easier to track when doing the development.\n",
            "[06:29.000 --> 06:31.000]  As far as other commits, another shout out to pad.\n",
            "[06:31.000 --> 06:35.000]  He's been working really hard on mainly getting edge removal.\n",
            "[06:35.000 --> 06:45.000]  We're removing the bat way of doing it, which it's a batch file that gets run and it strips it out and it makes it to where it can never come back.\n",
            "[06:45.000 --> 06:47.000]  That way is a little bit too aggressive.\n",
            "[06:47.000 --> 06:54.000]  And pad has been working on a new non intrusive way of just disabling it because a lot of people wanted to do like Bing chat\n",
            "[06:54.000 --> 06:59.000]  and install Firefox and just just a tidbit about that.\n",
            "[06:59.000 --> 07:03.000]  If you are just wanting Bing chat and you're like, I need to install edge for it.\n",
            "[07:03.000 --> 07:04.000]  Don't do that.\n",
            "[07:04.000 --> 07:11.000]  Get a user agent switcher and then just say, hey, I'm on edge and then just apply to active window.\n",
            "[07:11.000 --> 07:19.000]  And what that does is when you go to like Bing chat and you're like, hey, I need to chat with Bing instead of it denying you.\n",
            "[07:19.000 --> 07:21.000]  Began saying, hey, you're not on edge.\n",
            "[07:21.000 --> 07:23.000]  There's a better browser out there.\n",
            "[07:23.000 --> 07:24.000]  We need edge to use chat.\n",
            "[07:24.000 --> 07:29.000]  No, it's just all just Microsoft up to its old shenanigans.\n",
            "[07:29.000 --> 07:32.000]  Just use user agent switcher and say, hey, yeah, I'm on edge.\n",
            "[07:32.000 --> 07:34.000]  Totally on edge.\n",
            "[07:34.000 --> 07:35.000]  We're not on edge.\n",
            "[07:35.000 --> 07:36.000]  We're on brave.\n",
            "[07:36.000 --> 07:40.000]  So yeah, just another tidbit.\n",
            "[07:40.000 --> 07:46.000]  And then obviously, if you like to contribute and anything, head over to CTT store dot com.\n",
            "[07:46.000 --> 07:48.000]  Go pull up the windows toolbox.\n",
            "[07:48.000 --> 07:51.000]  This just gives an executable version of running this.\n",
            "[07:51.000 --> 07:53.000]  No real difference here.\n",
            "[07:53.000 --> 07:55.000]  You're not getting anything extra special.\n",
            "[07:55.000 --> 07:57.000]  Maybe in the future, we're going to tie in some other stuff.\n",
            "[07:57.000 --> 08:01.000]  I am working on some other development I might put in here.\n",
            "[08:01.000 --> 08:03.000]  But none of that's finalized right now.\n",
            "[08:03.000 --> 08:09.000]  It just gives like an offline executable that has basic tweaks and that one needs to be polished and updated.\n",
            "[08:09.000 --> 08:16.000]  And then another executable that's just a PowerShell wrapper that just runs all this as well.\n",
            "[08:16.000 --> 08:18.000]  But it just makes things a little easier to run.\n",
            "[08:18.000 --> 08:21.000]  But at the same time, don't feel compelled.\n",
            "[08:21.000 --> 08:26.000]  I just want to put that in there at the end here and just want to get everybody's feedback.\n",
            "[08:26.000 --> 08:29.000]  How are you guys liking it as far as the toolbox?\n",
            "[08:29.000 --> 08:38.000]  I really just love this past couple of weeks kind of bouncing ideas, closing issues, and just it's been it's been a lot of fun.\n",
            "[08:38.000 --> 08:45.000]  And I've really, really enjoyed the live streams and the back and forth I have with the community and also in the comments here on YouTube.\n",
            "[08:45.000 --> 08:46.000]  It's been great.\n",
            "[08:46.000 --> 08:47.000]  So thank you guys.\n",
            "[08:47.000 --> 08:51.000]  And with that, I'll see you in the next one.\n",
            "Output -> /content/gdrive/MyDrive/decipher/result\n"
          ]
        }
      ]
    },
    {
      "cell_type": "markdown",
      "source": [
        "# Rename the srt file"
      ],
      "metadata": {
        "id": "GTwjJSL5TiZX"
      }
    },
    {
      "cell_type": "code",
      "source": [
        "current_file_path = '/content/gdrive/MyDrive/decipher/result/audio.srt'\n",
        "directory_path = os.path.dirname(current_file_path)\n",
        "file_name = os.path.basename(current_file_path)\n",
        "new_file_path = os.path.join(directory_path, new_filename)\n",
        "os.rename(current_file_path, new_file_path)"
      ],
      "metadata": {
        "id": "w04Kx70fTuxU"
      },
      "execution_count": null,
      "outputs": []
    },
    {
      "cell_type": "markdown",
      "source": [
        "# Auto Shutdown the Runtime"
      ],
      "metadata": {
        "id": "sIG3oGLlfN1U"
      }
    },
    {
      "cell_type": "code",
      "source": [
        "if shutdown_after_complete.lower() == \"yes\":\n",
        "    print(\"Shutting Down the Runtime Because Shutdown After Complete is on\")\n",
        "    from google.colab import runtime\n",
        "    runtime.unassign()"
      ],
      "metadata": {
        "id": "CZ9tEuqkfTUn",
        "colab": {
          "base_uri": "https://localhost:8080/",
          "height": 34
        },
        "outputId": "88e7730d-6e7a-4376-b3d8-f08a5067b984"
      },
      "execution_count": null,
      "outputs": [
        {
          "output_type": "stream",
          "name": "stdout",
          "text": [
            "Shutting Down the Runtime Because Shutdown After Complete is on\n"
          ]
        }
      ]
    }
  ]
}