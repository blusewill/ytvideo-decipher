{
  "nbformat": 4,
  "nbformat_minor": 0,
  "metadata": {
    "colab": {
      "provenance": [],
      "gpuType": "T4",
      "authorship_tag": "ABX9TyP6v01iOCwji1DVEiePOJKX",
      "include_colab_link": true
    },
    "kernelspec": {
      "name": "python3",
      "display_name": "Python 3"
    },
    "language_info": {
      "name": "python"
    },
    "accelerator": "GPU",
    "gpuClass": "standard"
  },
  "cells": [
    {
      "cell_type": "markdown",
      "metadata": {
        "id": "view-in-github",
        "colab_type": "text"
      },
      "source": [
        "<a href=\"https://colab.research.google.com/github/blusewill/ytvideo-decipher/blob/dev/ytvideo_decipher.ipynb\" target=\"_parent\"><img src=\"https://colab.research.google.com/assets/colab-badge.svg\" alt=\"Open In Colab\"/></a>"
      ]
    },
    {
      "cell_type": "markdown",
      "source": [
        "# ytvideo-decipher\n",
        "\n",
        "The Project that is kinda fork to the [ytvideo-whisper](https://github.com/blusewill/ytvideo-whisper)\n",
        "\n",
        "Uses the [Decipher Project](https://github.com/dsymbol/decipher)"
      ],
      "metadata": {
        "id": "hzi0fFaQfggE"
      }
    },
    {
      "cell_type": "markdown",
      "source": [
        "## Add Google Drive Access \n",
        "(at Google Drive/Decipher)"
      ],
      "metadata": {
        "id": "TDDTv7lzgeWN"
      }
    },
    {
      "cell_type": "code",
      "source": [
        "from google.colab import drive\n",
        "import os\n",
        "\n",
        "path = '/content/gdrive/MyDrive/decipher'\n",
        "drive.mount('/content/gdrive')\n",
        "\n",
        "if not os.path.exists(path):\n",
        "  os.mkdir(path)"
      ],
      "metadata": {
        "id": "TyweSbjSgib8",
        "colab": {
          "base_uri": "https://localhost:8080/"
        },
        "outputId": "15620e51-d449-4ba2-bf16-17a012572485"
      },
      "execution_count": null,
      "outputs": [
        {
          "output_type": "stream",
          "name": "stdout",
          "text": [
            "Mounted at /content/gdrive\n"
          ]
        }
      ]
    },
    {
      "cell_type": "markdown",
      "source": [
        "## Install Decipher"
      ],
      "metadata": {
        "id": "_fZCcr0TgQoV"
      }
    },
    {
      "cell_type": "code",
      "source": [
        "! nvidia-smi\n",
        "! apt update && apt install ffmpeg fonts-open-sans\n",
        "! pip install git+https://github.com/dsymbol/decipher\n",
        "! pip install yt-dlp"
      ],
      "metadata": {
        "id": "A2yq4mAmgP1z",
        "colab": {
          "base_uri": "https://localhost:8080/"
        },
        "outputId": "44154480-de7b-4f47-de60-b7dcd8ed5142"
      },
      "execution_count": null,
      "outputs": [
        {
          "output_type": "stream",
          "name": "stdout",
          "text": [
            "Sun May 21 16:03:01 2023       \n",
            "+-----------------------------------------------------------------------------+\n",
            "| NVIDIA-SMI 525.85.12    Driver Version: 525.85.12    CUDA Version: 12.0     |\n",
            "|-------------------------------+----------------------+----------------------+\n",
            "| GPU  Name        Persistence-M| Bus-Id        Disp.A | Volatile Uncorr. ECC |\n",
            "| Fan  Temp  Perf  Pwr:Usage/Cap|         Memory-Usage | GPU-Util  Compute M. |\n",
            "|                               |                      |               MIG M. |\n",
            "|===============================+======================+======================|\n",
            "|   0  Tesla T4            Off  | 00000000:00:04.0 Off |                    0 |\n",
            "| N/A   42C    P8     9W /  70W |      0MiB / 15360MiB |      0%      Default |\n",
            "|                               |                      |                  N/A |\n",
            "+-------------------------------+----------------------+----------------------+\n",
            "                                                                               \n",
            "+-----------------------------------------------------------------------------+\n",
            "| Processes:                                                                  |\n",
            "|  GPU   GI   CI        PID   Type   Process name                  GPU Memory |\n",
            "|        ID   ID                                                   Usage      |\n",
            "|=============================================================================|\n",
            "|  No running processes found                                                 |\n",
            "+-----------------------------------------------------------------------------+\n",
            "Get:1 https://cloud.r-project.org/bin/linux/ubuntu focal-cran40/ InRelease [3,622 B]\n",
            "Hit:2 https://developer.download.nvidia.com/compute/cuda/repos/ubuntu2004/x86_64  InRelease\n",
            "Get:3 http://security.ubuntu.com/ubuntu focal-security InRelease [114 kB]\n",
            "Hit:4 http://ppa.launchpad.net/c2d4u.team/c2d4u4.0+/ubuntu focal InRelease\n",
            "Hit:5 http://archive.ubuntu.com/ubuntu focal InRelease\n",
            "Get:6 http://archive.ubuntu.com/ubuntu focal-updates InRelease [114 kB]\n",
            "Hit:7 http://ppa.launchpad.net/cran/libgit2/ubuntu focal InRelease\n",
            "Get:8 http://security.ubuntu.com/ubuntu focal-security/main amd64 Packages [2,699 kB]\n",
            "Hit:9 http://ppa.launchpad.net/deadsnakes/ppa/ubuntu focal InRelease\n",
            "Get:10 http://archive.ubuntu.com/ubuntu focal-backports InRelease [108 kB]\n",
            "Get:11 http://security.ubuntu.com/ubuntu focal-security/universe amd64 Packages [1,049 kB]\n",
            "Get:12 http://security.ubuntu.com/ubuntu focal-security/restricted amd64 Packages [2,240 kB]\n",
            "Hit:13 http://ppa.launchpad.net/graphics-drivers/ppa/ubuntu focal InRelease\n",
            "Get:14 http://archive.ubuntu.com/ubuntu focal-updates/main amd64 Packages [3,175 kB]\n",
            "Hit:15 http://ppa.launchpad.net/ubuntugis/ppa/ubuntu focal InRelease\n",
            "Get:16 http://archive.ubuntu.com/ubuntu focal-updates/universe amd64 Packages [1,344 kB]\n",
            "Fetched 10.8 MB in 2s (5,802 kB/s)\n",
            "Reading package lists... Done\n",
            "Building dependency tree       \n",
            "Reading state information... Done\n",
            "27 packages can be upgraded. Run 'apt list --upgradable' to see them.\n",
            "Reading package lists... Done\n",
            "Building dependency tree       \n",
            "Reading state information... Done\n",
            "ffmpeg is already the newest version (7:4.2.7-0ubuntu0.1).\n",
            "The following NEW packages will be installed:\n",
            "  fonts-open-sans\n",
            "0 upgraded, 1 newly installed, 0 to remove and 27 not upgraded.\n",
            "Need to get 575 kB of archives.\n",
            "After this operation, 2,890 kB of additional disk space will be used.\n",
            "Get:1 http://archive.ubuntu.com/ubuntu focal/universe amd64 fonts-open-sans all 1.11-1 [575 kB]\n",
            "Fetched 575 kB in 1s (666 kB/s)\n",
            "Selecting previously unselected package fonts-open-sans.\n",
            "(Reading database ... 122531 files and directories currently installed.)\n",
            "Preparing to unpack .../fonts-open-sans_1.11-1_all.deb ...\n",
            "Unpacking fonts-open-sans (1.11-1) ...\n",
            "Setting up fonts-open-sans (1.11-1) ...\n",
            "Processing triggers for fontconfig (2.13.1-2ubuntu3) ...\n",
            "Looking in indexes: https://pypi.org/simple, https://us-python.pkg.dev/colab-wheels/public/simple/\n",
            "Collecting git+https://github.com/dsymbol/decipher\n",
            "  Cloning https://github.com/dsymbol/decipher to /tmp/pip-req-build-7z9djbi3\n",
            "  Running command git clone --filter=blob:none --quiet https://github.com/dsymbol/decipher /tmp/pip-req-build-7z9djbi3\n",
            "  Resolved https://github.com/dsymbol/decipher to commit bdb676ced6355fbedc98024528452bbe849ae32c\n",
            "  Preparing metadata (setup.py) ... \u001b[?25l\u001b[?25hdone\n",
            "Collecting openai-whisper==20230314 (from decipher==0.0.0)\n",
            "  Downloading openai-whisper-20230314.tar.gz (792 kB)\n",
            "\u001b[2K     \u001b[90m━━━━━━━━━━━━━━━━━━━━━━━━━━━━━━━━━━━━━━\u001b[0m \u001b[32m792.9/792.9 kB\u001b[0m \u001b[31m14.8 MB/s\u001b[0m eta \u001b[36m0:00:00\u001b[0m\n",
            "\u001b[?25h  Installing build dependencies ... \u001b[?25l\u001b[?25hdone\n",
            "  Getting requirements to build wheel ... \u001b[?25l\u001b[?25hdone\n",
            "  Preparing metadata (pyproject.toml) ... \u001b[?25l\u001b[?25hdone\n",
            "Requirement already satisfied: click==8.1.3 in /usr/local/lib/python3.10/dist-packages (from decipher==0.0.0) (8.1.3)\n",
            "Collecting ffpb==0.4.1 (from decipher==0.0.0)\n",
            "  Downloading ffpb-0.4.1-py2.py3-none-any.whl (6.2 kB)\n",
            "Requirement already satisfied: tqdm in /usr/local/lib/python3.10/dist-packages (from decipher==0.0.0) (4.65.0)\n",
            "Requirement already satisfied: triton==2.0.0 in /usr/local/lib/python3.10/dist-packages (from openai-whisper==20230314->decipher==0.0.0) (2.0.0)\n",
            "Requirement already satisfied: numba in /usr/local/lib/python3.10/dist-packages (from openai-whisper==20230314->decipher==0.0.0) (0.56.4)\n",
            "Requirement already satisfied: numpy in /usr/local/lib/python3.10/dist-packages (from openai-whisper==20230314->decipher==0.0.0) (1.22.4)\n",
            "Requirement already satisfied: torch in /usr/local/lib/python3.10/dist-packages (from openai-whisper==20230314->decipher==0.0.0) (2.0.1+cu118)\n",
            "Requirement already satisfied: more-itertools in /usr/local/lib/python3.10/dist-packages (from openai-whisper==20230314->decipher==0.0.0) (9.1.0)\n",
            "Collecting tiktoken==0.3.1 (from openai-whisper==20230314->decipher==0.0.0)\n",
            "  Downloading tiktoken-0.3.1-cp310-cp310-manylinux_2_17_x86_64.manylinux2014_x86_64.whl (1.7 MB)\n",
            "\u001b[2K     \u001b[90m━━━━━━━━━━━━━━━━━━━━━━━━━━━━━━━━━━━━━━━━\u001b[0m \u001b[32m1.7/1.7 MB\u001b[0m \u001b[31m65.2 MB/s\u001b[0m eta \u001b[36m0:00:00\u001b[0m\n",
            "\u001b[?25hCollecting ffmpeg-python==0.2.0 (from openai-whisper==20230314->decipher==0.0.0)\n",
            "  Downloading ffmpeg_python-0.2.0-py3-none-any.whl (25 kB)\n",
            "Requirement already satisfied: future in /usr/local/lib/python3.10/dist-packages (from ffmpeg-python==0.2.0->openai-whisper==20230314->decipher==0.0.0) (0.18.3)\n",
            "Requirement already satisfied: regex>=2022.1.18 in /usr/local/lib/python3.10/dist-packages (from tiktoken==0.3.1->openai-whisper==20230314->decipher==0.0.0) (2022.10.31)\n",
            "Requirement already satisfied: requests>=2.26.0 in /usr/local/lib/python3.10/dist-packages (from tiktoken==0.3.1->openai-whisper==20230314->decipher==0.0.0) (2.27.1)\n",
            "Requirement already satisfied: cmake in /usr/local/lib/python3.10/dist-packages (from triton==2.0.0->openai-whisper==20230314->decipher==0.0.0) (3.25.2)\n",
            "Requirement already satisfied: filelock in /usr/local/lib/python3.10/dist-packages (from triton==2.0.0->openai-whisper==20230314->decipher==0.0.0) (3.12.0)\n",
            "Requirement already satisfied: lit in /usr/local/lib/python3.10/dist-packages (from triton==2.0.0->openai-whisper==20230314->decipher==0.0.0) (16.0.5)\n",
            "Requirement already satisfied: llvmlite<0.40,>=0.39.0dev0 in /usr/local/lib/python3.10/dist-packages (from numba->openai-whisper==20230314->decipher==0.0.0) (0.39.1)\n",
            "Requirement already satisfied: setuptools in /usr/local/lib/python3.10/dist-packages (from numba->openai-whisper==20230314->decipher==0.0.0) (67.7.2)\n",
            "Requirement already satisfied: typing-extensions in /usr/local/lib/python3.10/dist-packages (from torch->openai-whisper==20230314->decipher==0.0.0) (4.5.0)\n",
            "Requirement already satisfied: sympy in /usr/local/lib/python3.10/dist-packages (from torch->openai-whisper==20230314->decipher==0.0.0) (1.11.1)\n",
            "Requirement already satisfied: networkx in /usr/local/lib/python3.10/dist-packages (from torch->openai-whisper==20230314->decipher==0.0.0) (3.1)\n",
            "Requirement already satisfied: jinja2 in /usr/local/lib/python3.10/dist-packages (from torch->openai-whisper==20230314->decipher==0.0.0) (3.1.2)\n",
            "Requirement already satisfied: urllib3<1.27,>=1.21.1 in /usr/local/lib/python3.10/dist-packages (from requests>=2.26.0->tiktoken==0.3.1->openai-whisper==20230314->decipher==0.0.0) (1.26.15)\n",
            "Requirement already satisfied: certifi>=2017.4.17 in /usr/local/lib/python3.10/dist-packages (from requests>=2.26.0->tiktoken==0.3.1->openai-whisper==20230314->decipher==0.0.0) (2022.12.7)\n",
            "Requirement already satisfied: charset-normalizer~=2.0.0 in /usr/local/lib/python3.10/dist-packages (from requests>=2.26.0->tiktoken==0.3.1->openai-whisper==20230314->decipher==0.0.0) (2.0.12)\n",
            "Requirement already satisfied: idna<4,>=2.5 in /usr/local/lib/python3.10/dist-packages (from requests>=2.26.0->tiktoken==0.3.1->openai-whisper==20230314->decipher==0.0.0) (3.4)\n",
            "Requirement already satisfied: MarkupSafe>=2.0 in /usr/local/lib/python3.10/dist-packages (from jinja2->torch->openai-whisper==20230314->decipher==0.0.0) (2.1.2)\n",
            "Requirement already satisfied: mpmath>=0.19 in /usr/local/lib/python3.10/dist-packages (from sympy->torch->openai-whisper==20230314->decipher==0.0.0) (1.3.0)\n",
            "Building wheels for collected packages: decipher, openai-whisper\n",
            "  Building wheel for decipher (setup.py) ... \u001b[?25l\u001b[?25hdone\n",
            "  Created wheel for decipher: filename=decipher-0.0.0-py3-none-any.whl size=5475 sha256=cc5a07e6272e8bb0ea822a448f0fb834c4f92c6034d7e75c21b33cc019af629d\n",
            "  Stored in directory: /tmp/pip-ephem-wheel-cache-_5huyeqo/wheels/d9/7c/91/14fc6f2e88acfc197caf86366643c916abfee17c4555a74670\n",
            "  Building wheel for openai-whisper (pyproject.toml) ... \u001b[?25l\u001b[?25hdone\n",
            "  Created wheel for openai-whisper: filename=openai_whisper-20230314-py3-none-any.whl size=796910 sha256=22a9607a4e78a56b6e2748b85f40b29267ae2ee26b132a30090e97f34b5f5cf5\n",
            "  Stored in directory: /root/.cache/pip/wheels/b2/13/5f/fe8245f6dc59df505879da4b2129932e342f02a80e6b87f27d\n",
            "Successfully built decipher openai-whisper\n",
            "Installing collected packages: ffpb, ffmpeg-python, tiktoken, openai-whisper, decipher\n",
            "Successfully installed decipher-0.0.0 ffmpeg-python-0.2.0 ffpb-0.4.1 openai-whisper-20230314 tiktoken-0.3.1\n",
            "Looking in indexes: https://pypi.org/simple, https://us-python.pkg.dev/colab-wheels/public/simple/\n",
            "Collecting yt-dlp\n",
            "  Downloading yt_dlp-2023.3.4-py2.py3-none-any.whl (2.9 MB)\n",
            "\u001b[2K     \u001b[90m━━━━━━━━━━━━━━━━━━━━━━━━━━━━━━━━━━━━━━━━\u001b[0m \u001b[32m2.9/2.9 MB\u001b[0m \u001b[31m35.3 MB/s\u001b[0m eta \u001b[36m0:00:00\u001b[0m\n",
            "\u001b[?25hCollecting mutagen (from yt-dlp)\n",
            "  Downloading mutagen-1.46.0-py3-none-any.whl (193 kB)\n",
            "\u001b[2K     \u001b[90m━━━━━━━━━━━━━━━━━━━━━━━━━━━━━━━━━━━━━━\u001b[0m \u001b[32m193.6/193.6 kB\u001b[0m \u001b[31m23.7 MB/s\u001b[0m eta \u001b[36m0:00:00\u001b[0m\n",
            "\u001b[?25hCollecting pycryptodomex (from yt-dlp)\n",
            "  Downloading pycryptodomex-3.18.0-cp35-abi3-manylinux_2_17_x86_64.manylinux2014_x86_64.whl (2.1 MB)\n",
            "\u001b[2K     \u001b[90m━━━━━━━━━━━━━━━━━━━━━━━━━━━━━━━━━━━━━━━━\u001b[0m \u001b[32m2.1/2.1 MB\u001b[0m \u001b[31m72.6 MB/s\u001b[0m eta \u001b[36m0:00:00\u001b[0m\n",
            "\u001b[?25hCollecting websockets (from yt-dlp)\n",
            "  Downloading websockets-11.0.3-cp310-cp310-manylinux_2_5_x86_64.manylinux1_x86_64.manylinux_2_17_x86_64.manylinux2014_x86_64.whl (129 kB)\n",
            "\u001b[2K     \u001b[90m━━━━━━━━━━━━━━━━━━━━━━━━━━━━━━━━━━━━━━\u001b[0m \u001b[32m129.9/129.9 kB\u001b[0m \u001b[31m17.7 MB/s\u001b[0m eta \u001b[36m0:00:00\u001b[0m\n",
            "\u001b[?25hRequirement already satisfied: certifi in /usr/local/lib/python3.10/dist-packages (from yt-dlp) (2022.12.7)\n",
            "Collecting brotli (from yt-dlp)\n",
            "  Downloading Brotli-1.0.9-cp310-cp310-manylinux_2_5_x86_64.manylinux1_x86_64.manylinux_2_12_x86_64.manylinux2010_x86_64.whl (2.7 MB)\n",
            "\u001b[2K     \u001b[90m━━━━━━━━━━━━━━━━━━━━━━━━━━━━━━━━━━━━━━━━\u001b[0m \u001b[32m2.7/2.7 MB\u001b[0m \u001b[31m110.6 MB/s\u001b[0m eta \u001b[36m0:00:00\u001b[0m\n",
            "\u001b[?25hInstalling collected packages: brotli, websockets, pycryptodomex, mutagen, yt-dlp\n",
            "Successfully installed brotli-1.0.9 mutagen-1.46.0 pycryptodomex-3.18.0 websockets-11.0.3 yt-dlp-2023.3.4\n"
          ]
        }
      ]
    },
    {
      "cell_type": "markdown",
      "source": [
        "# Settings"
      ],
      "metadata": {
        "id": "VRuRUqwUUSy1"
      }
    },
    {
      "cell_type": "code",
      "source": [
        "#@markdown # **Video Link Here**\n",
        "# YouTube Link\n",
        "YouTube_Video_Link = \"https://www.youtube.com/watch?v=yxf2VRuAtls\" #@param {type:\"string\"}\n",
        "# File Name Change\n",
        "new_filename = \"Conc\\xE9deme Un Momento\" #@param {type:\"string\"}\n",
        "# Audio Language\n",
        "#@markdown # **Transcribe Options**\n",
        "language = \"\" #@param {type:\"string\"}\n",
        "#@markdown Note: Leave it Blank to let it audio Detect the Language\n",
        "# Change it to srt file type\n",
        "new_filename = os.path.splitext(new_filename)[0] + \".srt\"\n",
        "#@markdown # **Translate Options**\n",
        "translate = \"no\" #@param ['yes','no']\n",
        "translate_to_language = \"english\" #@param {type:\"string\"}\n",
        "# Change the Model of the Whisper\n",
        "#@markdown # **Other Options**\n",
        "shutdown_after_complete = \"yes\" #@param ['yes','no']\n",
        "model = \"medium\" #@param ['tiny.en','tiny','base.en','base','small.en','small','medium.en','medium','large-v1','large-v2','large']"
      ],
      "metadata": {
        "id": "dgS0XmHnUWn4"
      },
      "execution_count": null,
      "outputs": []
    },
    {
      "cell_type": "markdown",
      "source": [
        "# Download the YouTube Video using yt-dlp"
      ],
      "metadata": {
        "id": "hKN06IJlM6ql"
      }
    },
    {
      "cell_type": "code",
      "source": [
        "import yt_dlp\n",
        "\n",
        "ydl_opts = {\n",
        "    'format': 'bestaudio/best',\n",
        "    'postprocessors': [{\n",
        "        'key': 'FFmpegExtractAudio',\n",
        "        'preferredcodec': 'aac',\n",
        "        'preferredquality': '192',\n",
        "    }],\n",
        "        'outtmpl': 'content/audio',\n",
        "}\n",
        "with yt_dlp.YoutubeDL(ydl_opts) as ydl:\n",
        "    ydl.download([YouTube_Video_Link])"
      ],
      "metadata": {
        "id": "Pjp5n1YrhV25",
        "colab": {
          "base_uri": "https://localhost:8080/"
        },
        "outputId": "cbc75d16-3859-4e22-8a96-4010bb477147"
      },
      "execution_count": null,
      "outputs": [
        {
          "output_type": "stream",
          "name": "stdout",
          "text": [
            "[youtube] Extracting URL: https://www.youtube.com/watch?v=yxf2VRuAtls\n",
            "[youtube] yxf2VRuAtls: Downloading webpage\n",
            "[youtube] yxf2VRuAtls: Downloading android player API JSON\n",
            "[youtube] yxf2VRuAtls: Downloading player e50626d8\n",
            "[info] yxf2VRuAtls: Downloading 1 format(s): 251\n",
            "[dashsegments] Total fragments: 1\n",
            "[download] Destination: content/audio\n",
            "[download] 100% of    3.33MiB in 00:00:00 at 18.01MiB/s              \n",
            "[ExtractAudio] Destination: content/audio.m4a\n",
            "Deleting original file content/audio (pass -k to keep)\n"
          ]
        }
      ]
    },
    {
      "cell_type": "markdown",
      "source": [
        "# Transcribe/Translate the Video"
      ],
      "metadata": {
        "id": "-i6ak-UHNASv"
      }
    },
    {
      "cell_type": "code",
      "source": [
        "if translate.lower() == \"no\":\n",
        "\n",
        "  input = \"content/audio.m4a\"\n",
        "  output_dir = \"/content/gdrive/MyDrive/decipher/result\"\n",
        "  task = \"transcribe\"\n",
        "  subtitle_action = \"None\"\n",
        "\n",
        "  from decipher.action import transcribe\n",
        "  import os\n",
        "\n",
        "  transcribe(\n",
        "    input, \n",
        "    output_dir,\n",
        "    model,\n",
        "    language if language else None,\n",
        "    task,\n",
        "    subtitle_action if subtitle_action != \"None\" else None\n",
        "    )\n",
        "  \n",
        "elif translate.lower() == \"yes\":\n",
        "\n",
        "  input = \"content/audio.m4a\"\n",
        "  output_dir = \"/content/gdrive/MyDrive/decipher/result\"\n",
        "  language = \"\"\n",
        "  task = \"translate\"\n",
        "  subtitle_action = \"None\"\n",
        "\n",
        "  from decipher.action import transcribe\n",
        "  import os\n",
        "  transcribe(\n",
        "    input, \n",
        "    output_dir,\n",
        "    model,\n",
        "    translate_to_language if translate_to_language else None,\n",
        "    task,\n",
        "    subtitle_action if subtitle_action != \"None\" else None\n",
        "  )\n",
        "  \n",
        "else:\n",
        "  print(\"There is no Selected Options. Shutting down the Runtime\")\n",
        "  from google.colab import runtime\n",
        "  runtime.unassign()\n"
      ],
      "metadata": {
        "colab": {
          "base_uri": "https://localhost:8080/"
        },
        "id": "Lf-sGFcgNIWH",
        "outputId": "6c193392-ce61-4479-f2ba-baf255a72150"
      },
      "execution_count": null,
      "outputs": [
        {
          "output_type": "stream",
          "name": "stdout",
          "text": [
            "Converting audio.m4a to audio.aac...\n"
          ]
        },
        {
          "output_type": "stream",
          "name": "stderr",
          "text": [
            "audio.m4a: 100%|██████████| 201/201 [00:00<00:00, 420266.75 seconds/s]\n",
            "100%|██████████████████████████████████████| 1.42G/1.42G [00:11<00:00, 133MiB/s]\n"
          ]
        },
        {
          "output_type": "stream",
          "name": "stdout",
          "text": [
            "Detecting language using up to the first 30 seconds. Use `--language` to specify the language\n",
            "Detected language: Spanish\n",
            "[00:00.000 --> 00:22.160]  No sé si fue real o si fue una ilusión\n",
            "[00:22.160 --> 00:30.640]  Sintado en aquel bar mientras yo al cantar\n",
            "[00:30.640 --> 00:39.120]  Notaba que mis besos alcanzarán a tu corazón\n",
            "[00:39.120 --> 00:47.920]  Soñando que cada mirada no fuera por casualidad\n",
            "[00:47.920 --> 00:56.320]  De nuevo estoy aquí con mi vieja canción\n",
            "[00:56.320 --> 01:06.320]  Sonríes para mí, este mismo y con el tiempo\n",
            "[01:06.320 --> 01:13.680]  Amar chitado nuestra piel y nuestra juventud\n",
            "[01:13.680 --> 01:22.320]  Pero conservo la magia del amor\n",
            "[01:22.320 --> 01:32.160]  Tenerte cerca, amor, me da tranquilidad\n",
            "[01:32.160 --> 01:41.200]  Anhelo tu calor, transmites tanta paz\n",
            "[01:41.440 --> 01:50.560]  Siempre estás junto a mí, que debo ser para ti\n",
            "[01:50.560 --> 02:00.240]  Quizás el hombre que te hace vivir en un sueño\n",
            "[02:00.240 --> 02:09.040]  Te abrazo para oír y sentir tu corazón\n",
            "[02:09.120 --> 02:18.000]  Nativo sin los que no podría vivir\n",
            "[02:18.000 --> 02:27.280]  Con sede de un momento deja que me acepte más a ti\n",
            "[02:27.280 --> 02:37.200]  No dejes jamás de mirarme solo a mí\n",
            "[02:37.200 --> 02:46.240]  Quisiera compartir lágrimas y dolor\n",
            "[02:46.240 --> 02:54.960]  Quisiera compartir felicidad y amor\n",
            "[02:54.960 --> 03:04.160]  Intenta secarte a mí, descubrirás tanto amor\n",
            "[03:04.160 --> 03:14.560]  Que a ti me dejarás de creer que solo soy un sueño\n",
            "Output -> /content/gdrive/MyDrive/decipher/result\n"
          ]
        }
      ]
    },
    {
      "cell_type": "markdown",
      "source": [
        "# Rename the srt file"
      ],
      "metadata": {
        "id": "GTwjJSL5TiZX"
      }
    },
    {
      "cell_type": "code",
      "source": [
        "current_file_path = '/content/gdrive/MyDrive/decipher/result/audio.srt'\n",
        "directory_path = os.path.dirname(current_file_path)\n",
        "file_name = os.path.basename(current_file_path)\n",
        "new_file_path = os.path.join(directory_path, new_filename)\n",
        "os.rename(current_file_path, new_file_path)"
      ],
      "metadata": {
        "id": "w04Kx70fTuxU"
      },
      "execution_count": null,
      "outputs": []
    },
    {
      "cell_type": "markdown",
      "source": [
        "# Auto Shutdown the Runtime"
      ],
      "metadata": {
        "id": "sIG3oGLlfN1U"
      }
    },
    {
      "cell_type": "code",
      "source": [
        "if shutdown_after_complete.lower() == \"yes\":\n",
        "    from google.colab import runtime\n",
        "    runtime.unassign()"
      ],
      "metadata": {
        "id": "CZ9tEuqkfTUn"
      },
      "execution_count": null,
      "outputs": []
    }
  ]
}