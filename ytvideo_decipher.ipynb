{
  "nbformat": 4,
  "nbformat_minor": 0,
  "metadata": {
    "colab": {
      "provenance": [],
      "gpuType": "T4",
      "authorship_tag": "ABX9TyPYeiCf9GZfPc9sY4x9ENsg",
      "include_colab_link": true
    },
    "kernelspec": {
      "name": "python3",
      "display_name": "Python 3"
    },
    "language_info": {
      "name": "python"
    },
    "accelerator": "GPU",
    "gpuClass": "standard"
  },
  "cells": [
    {
      "cell_type": "markdown",
      "metadata": {
        "id": "view-in-github",
        "colab_type": "text"
      },
      "source": [
        "<a href=\"https://colab.research.google.com/github/blusewill/ytvideo-decipher/blob/dev/ytvideo_decipher.ipynb\" target=\"_parent\"><img src=\"https://colab.research.google.com/assets/colab-badge.svg\" alt=\"Open In Colab\"/></a>"
      ]
    },
    {
      "cell_type": "markdown",
      "source": [
        "# ytvideo-decipher\n",
        "\n",
        "The Project that is kinda fork to the [ytvideo-whisper](https://github.com/blusewill/ytvideo-whisper)\n",
        "\n",
        "Uses the [Decipher Project](https://github.com/dsymbol/decipher)"
      ],
      "metadata": {
        "id": "hzi0fFaQfggE"
      }
    },
    {
      "cell_type": "markdown",
      "source": [
        "## Install Decipher"
      ],
      "metadata": {
        "id": "_fZCcr0TgQoV"
      }
    },
    {
      "cell_type": "code",
      "source": [
        "! nvidia-smi\n",
        "! apt update && apt install ffmpeg fonts-open-sans\n",
        "! pip install git+https://github.com/dsymbol/decipher\n",
        "! pip install yt-dlp"
      ],
      "metadata": {
        "id": "A2yq4mAmgP1z",
        "colab": {
          "base_uri": "https://localhost:8080/"
        },
        "outputId": "eabe68e5-b3ea-43bd-9d60-a1a875f591ef"
      },
      "execution_count": 1,
      "outputs": [
        {
          "output_type": "stream",
          "name": "stdout",
          "text": [
            "Sun May 21 04:13:26 2023       \n",
            "+-----------------------------------------------------------------------------+\n",
            "| NVIDIA-SMI 525.85.12    Driver Version: 525.85.12    CUDA Version: 12.0     |\n",
            "|-------------------------------+----------------------+----------------------+\n",
            "| GPU  Name        Persistence-M| Bus-Id        Disp.A | Volatile Uncorr. ECC |\n",
            "| Fan  Temp  Perf  Pwr:Usage/Cap|         Memory-Usage | GPU-Util  Compute M. |\n",
            "|                               |                      |               MIG M. |\n",
            "|===============================+======================+======================|\n",
            "|   0  Tesla T4            Off  | 00000000:00:04.0 Off |                    0 |\n",
            "| N/A   57C    P8    12W /  70W |      0MiB / 15360MiB |      0%      Default |\n",
            "|                               |                      |                  N/A |\n",
            "+-------------------------------+----------------------+----------------------+\n",
            "                                                                               \n",
            "+-----------------------------------------------------------------------------+\n",
            "| Processes:                                                                  |\n",
            "|  GPU   GI   CI        PID   Type   Process name                  GPU Memory |\n",
            "|        ID   ID                                                   Usage      |\n",
            "|=============================================================================|\n",
            "|  No running processes found                                                 |\n",
            "+-----------------------------------------------------------------------------+\n",
            "Get:1 https://cloud.r-project.org/bin/linux/ubuntu focal-cran40/ InRelease [3,622 B]\n",
            "Hit:2 https://developer.download.nvidia.com/compute/cuda/repos/ubuntu2004/x86_64  InRelease\n",
            "Get:3 http://security.ubuntu.com/ubuntu focal-security InRelease [114 kB]\n",
            "Hit:4 http://archive.ubuntu.com/ubuntu focal InRelease\n",
            "Hit:5 http://ppa.launchpad.net/c2d4u.team/c2d4u4.0+/ubuntu focal InRelease\n",
            "Get:6 http://archive.ubuntu.com/ubuntu focal-updates InRelease [114 kB]\n",
            "Hit:7 http://ppa.launchpad.net/cran/libgit2/ubuntu focal InRelease\n",
            "Hit:8 http://ppa.launchpad.net/deadsnakes/ppa/ubuntu focal InRelease\n",
            "Get:9 http://security.ubuntu.com/ubuntu focal-security/universe amd64 Packages [1,049 kB]\n",
            "Hit:10 http://ppa.launchpad.net/graphics-drivers/ppa/ubuntu focal InRelease\n",
            "Get:11 http://archive.ubuntu.com/ubuntu focal-backports InRelease [108 kB]\n",
            "Hit:12 http://ppa.launchpad.net/ubuntugis/ppa/ubuntu focal InRelease\n",
            "Get:13 http://archive.ubuntu.com/ubuntu focal-updates/main amd64 Packages [3,175 kB]\n",
            "Get:14 http://security.ubuntu.com/ubuntu focal-security/restricted amd64 Packages [2,240 kB]\n",
            "Get:15 http://security.ubuntu.com/ubuntu focal-security/main amd64 Packages [2,699 kB]\n",
            "Get:16 http://archive.ubuntu.com/ubuntu focal-updates/universe amd64 Packages [1,344 kB]\n",
            "Fetched 10.8 MB in 4s (3,033 kB/s)\n",
            "Reading package lists... Done\n",
            "Building dependency tree       \n",
            "Reading state information... Done\n",
            "27 packages can be upgraded. Run 'apt list --upgradable' to see them.\n",
            "Reading package lists... Done\n",
            "Building dependency tree       \n",
            "Reading state information... Done\n",
            "ffmpeg is already the newest version (7:4.2.7-0ubuntu0.1).\n",
            "The following NEW packages will be installed:\n",
            "  fonts-open-sans\n",
            "0 upgraded, 1 newly installed, 0 to remove and 27 not upgraded.\n",
            "Need to get 575 kB of archives.\n",
            "After this operation, 2,890 kB of additional disk space will be used.\n",
            "Get:1 http://archive.ubuntu.com/ubuntu focal/universe amd64 fonts-open-sans all 1.11-1 [575 kB]\n",
            "Fetched 575 kB in 2s (345 kB/s)\n",
            "Selecting previously unselected package fonts-open-sans.\n",
            "(Reading database ... 122531 files and directories currently installed.)\n",
            "Preparing to unpack .../fonts-open-sans_1.11-1_all.deb ...\n",
            "Unpacking fonts-open-sans (1.11-1) ...\n",
            "Setting up fonts-open-sans (1.11-1) ...\n",
            "Processing triggers for fontconfig (2.13.1-2ubuntu3) ...\n",
            "Looking in indexes: https://pypi.org/simple, https://us-python.pkg.dev/colab-wheels/public/simple/\n",
            "Collecting git+https://github.com/dsymbol/decipher\n",
            "  Cloning https://github.com/dsymbol/decipher to /tmp/pip-req-build-1bqp6a5x\n",
            "  Running command git clone --filter=blob:none --quiet https://github.com/dsymbol/decipher /tmp/pip-req-build-1bqp6a5x\n",
            "  Resolved https://github.com/dsymbol/decipher to commit bdb676ced6355fbedc98024528452bbe849ae32c\n",
            "  Preparing metadata (setup.py) ... \u001b[?25l\u001b[?25hdone\n",
            "Collecting openai-whisper==20230314 (from decipher==0.0.0)\n",
            "  Downloading openai-whisper-20230314.tar.gz (792 kB)\n",
            "\u001b[2K     \u001b[90m━━━━━━━━━━━━━━━━━━━━━━━━━━━━━━━━━━━━━━\u001b[0m \u001b[32m792.9/792.9 kB\u001b[0m \u001b[31m41.9 MB/s\u001b[0m eta \u001b[36m0:00:00\u001b[0m\n",
            "\u001b[?25h  Installing build dependencies ... \u001b[?25l\u001b[?25hdone\n",
            "  Getting requirements to build wheel ... \u001b[?25l\u001b[?25hdone\n",
            "  Preparing metadata (pyproject.toml) ... \u001b[?25l\u001b[?25hdone\n",
            "Requirement already satisfied: click==8.1.3 in /usr/local/lib/python3.10/dist-packages (from decipher==0.0.0) (8.1.3)\n",
            "Collecting ffpb==0.4.1 (from decipher==0.0.0)\n",
            "  Downloading ffpb-0.4.1-py2.py3-none-any.whl (6.2 kB)\n",
            "Requirement already satisfied: tqdm in /usr/local/lib/python3.10/dist-packages (from decipher==0.0.0) (4.65.0)\n",
            "Requirement already satisfied: triton==2.0.0 in /usr/local/lib/python3.10/dist-packages (from openai-whisper==20230314->decipher==0.0.0) (2.0.0)\n",
            "Requirement already satisfied: numba in /usr/local/lib/python3.10/dist-packages (from openai-whisper==20230314->decipher==0.0.0) (0.56.4)\n",
            "Requirement already satisfied: numpy in /usr/local/lib/python3.10/dist-packages (from openai-whisper==20230314->decipher==0.0.0) (1.22.4)\n",
            "Requirement already satisfied: torch in /usr/local/lib/python3.10/dist-packages (from openai-whisper==20230314->decipher==0.0.0) (2.0.1+cu118)\n",
            "Requirement already satisfied: more-itertools in /usr/local/lib/python3.10/dist-packages (from openai-whisper==20230314->decipher==0.0.0) (9.1.0)\n",
            "Collecting tiktoken==0.3.1 (from openai-whisper==20230314->decipher==0.0.0)\n",
            "  Downloading tiktoken-0.3.1-cp310-cp310-manylinux_2_17_x86_64.manylinux2014_x86_64.whl (1.7 MB)\n",
            "\u001b[2K     \u001b[90m━━━━━━━━━━━━━━━━━━━━━━━━━━━━━━━━━━━━━━━━\u001b[0m \u001b[32m1.7/1.7 MB\u001b[0m \u001b[31m96.2 MB/s\u001b[0m eta \u001b[36m0:00:00\u001b[0m\n",
            "\u001b[?25hCollecting ffmpeg-python==0.2.0 (from openai-whisper==20230314->decipher==0.0.0)\n",
            "  Downloading ffmpeg_python-0.2.0-py3-none-any.whl (25 kB)\n",
            "Requirement already satisfied: future in /usr/local/lib/python3.10/dist-packages (from ffmpeg-python==0.2.0->openai-whisper==20230314->decipher==0.0.0) (0.18.3)\n",
            "Requirement already satisfied: regex>=2022.1.18 in /usr/local/lib/python3.10/dist-packages (from tiktoken==0.3.1->openai-whisper==20230314->decipher==0.0.0) (2022.10.31)\n",
            "Requirement already satisfied: requests>=2.26.0 in /usr/local/lib/python3.10/dist-packages (from tiktoken==0.3.1->openai-whisper==20230314->decipher==0.0.0) (2.27.1)\n",
            "Requirement already satisfied: cmake in /usr/local/lib/python3.10/dist-packages (from triton==2.0.0->openai-whisper==20230314->decipher==0.0.0) (3.25.2)\n",
            "Requirement already satisfied: filelock in /usr/local/lib/python3.10/dist-packages (from triton==2.0.0->openai-whisper==20230314->decipher==0.0.0) (3.12.0)\n",
            "Requirement already satisfied: lit in /usr/local/lib/python3.10/dist-packages (from triton==2.0.0->openai-whisper==20230314->decipher==0.0.0) (16.0.5)\n",
            "Requirement already satisfied: llvmlite<0.40,>=0.39.0dev0 in /usr/local/lib/python3.10/dist-packages (from numba->openai-whisper==20230314->decipher==0.0.0) (0.39.1)\n",
            "Requirement already satisfied: setuptools in /usr/local/lib/python3.10/dist-packages (from numba->openai-whisper==20230314->decipher==0.0.0) (67.7.2)\n",
            "Requirement already satisfied: typing-extensions in /usr/local/lib/python3.10/dist-packages (from torch->openai-whisper==20230314->decipher==0.0.0) (4.5.0)\n",
            "Requirement already satisfied: sympy in /usr/local/lib/python3.10/dist-packages (from torch->openai-whisper==20230314->decipher==0.0.0) (1.11.1)\n",
            "Requirement already satisfied: networkx in /usr/local/lib/python3.10/dist-packages (from torch->openai-whisper==20230314->decipher==0.0.0) (3.1)\n",
            "Requirement already satisfied: jinja2 in /usr/local/lib/python3.10/dist-packages (from torch->openai-whisper==20230314->decipher==0.0.0) (3.1.2)\n",
            "Requirement already satisfied: urllib3<1.27,>=1.21.1 in /usr/local/lib/python3.10/dist-packages (from requests>=2.26.0->tiktoken==0.3.1->openai-whisper==20230314->decipher==0.0.0) (1.26.15)\n",
            "Requirement already satisfied: certifi>=2017.4.17 in /usr/local/lib/python3.10/dist-packages (from requests>=2.26.0->tiktoken==0.3.1->openai-whisper==20230314->decipher==0.0.0) (2022.12.7)\n",
            "Requirement already satisfied: charset-normalizer~=2.0.0 in /usr/local/lib/python3.10/dist-packages (from requests>=2.26.0->tiktoken==0.3.1->openai-whisper==20230314->decipher==0.0.0) (2.0.12)\n",
            "Requirement already satisfied: idna<4,>=2.5 in /usr/local/lib/python3.10/dist-packages (from requests>=2.26.0->tiktoken==0.3.1->openai-whisper==20230314->decipher==0.0.0) (3.4)\n",
            "Requirement already satisfied: MarkupSafe>=2.0 in /usr/local/lib/python3.10/dist-packages (from jinja2->torch->openai-whisper==20230314->decipher==0.0.0) (2.1.2)\n",
            "Requirement already satisfied: mpmath>=0.19 in /usr/local/lib/python3.10/dist-packages (from sympy->torch->openai-whisper==20230314->decipher==0.0.0) (1.3.0)\n",
            "Building wheels for collected packages: decipher, openai-whisper\n",
            "  Building wheel for decipher (setup.py) ... \u001b[?25l\u001b[?25hdone\n",
            "  Created wheel for decipher: filename=decipher-0.0.0-py3-none-any.whl size=5475 sha256=7bb3b8ed4aa470d0ee53e58d09e919a659a322dc7aa7bb3d728f6e5c6143cd34\n",
            "  Stored in directory: /tmp/pip-ephem-wheel-cache-1zasusx4/wheels/d9/7c/91/14fc6f2e88acfc197caf86366643c916abfee17c4555a74670\n",
            "  Building wheel for openai-whisper (pyproject.toml) ... \u001b[?25l\u001b[?25hdone\n",
            "  Created wheel for openai-whisper: filename=openai_whisper-20230314-py3-none-any.whl size=796910 sha256=b3fccfdf83753e287d4851142133a143738e3e3478f668059ad0fa3b1e503906\n",
            "  Stored in directory: /root/.cache/pip/wheels/b2/13/5f/fe8245f6dc59df505879da4b2129932e342f02a80e6b87f27d\n",
            "Successfully built decipher openai-whisper\n",
            "Installing collected packages: ffpb, ffmpeg-python, tiktoken, openai-whisper, decipher\n",
            "Successfully installed decipher-0.0.0 ffmpeg-python-0.2.0 ffpb-0.4.1 openai-whisper-20230314 tiktoken-0.3.1\n",
            "Looking in indexes: https://pypi.org/simple, https://us-python.pkg.dev/colab-wheels/public/simple/\n",
            "Collecting yt-dlp\n",
            "  Downloading yt_dlp-2023.3.4-py2.py3-none-any.whl (2.9 MB)\n",
            "\u001b[2K     \u001b[90m━━━━━━━━━━━━━━━━━━━━━━━━━━━━━━━━━━━━━━━━\u001b[0m \u001b[32m2.9/2.9 MB\u001b[0m \u001b[31m50.4 MB/s\u001b[0m eta \u001b[36m0:00:00\u001b[0m\n",
            "\u001b[?25hCollecting mutagen (from yt-dlp)\n",
            "  Downloading mutagen-1.46.0-py3-none-any.whl (193 kB)\n",
            "\u001b[2K     \u001b[90m━━━━━━━━━━━━━━━━━━━━━━━━━━━━━━━━━━━━━━\u001b[0m \u001b[32m193.6/193.6 kB\u001b[0m \u001b[31m16.6 MB/s\u001b[0m eta \u001b[36m0:00:00\u001b[0m\n",
            "\u001b[?25hCollecting pycryptodomex (from yt-dlp)\n",
            "  Downloading pycryptodomex-3.18.0-cp35-abi3-manylinux_2_17_x86_64.manylinux2014_x86_64.whl (2.1 MB)\n",
            "\u001b[2K     \u001b[90m━━━━━━━━━━━━━━━━━━━━━━━━━━━━━━━━━━━━━━━━\u001b[0m \u001b[32m2.1/2.1 MB\u001b[0m \u001b[31m76.9 MB/s\u001b[0m eta \u001b[36m0:00:00\u001b[0m\n",
            "\u001b[?25hCollecting websockets (from yt-dlp)\n",
            "  Downloading websockets-11.0.3-cp310-cp310-manylinux_2_5_x86_64.manylinux1_x86_64.manylinux_2_17_x86_64.manylinux2014_x86_64.whl (129 kB)\n",
            "\u001b[2K     \u001b[90m━━━━━━━━━━━━━━━━━━━━━━━━━━━━━━━━━━━━━━\u001b[0m \u001b[32m129.9/129.9 kB\u001b[0m \u001b[31m18.5 MB/s\u001b[0m eta \u001b[36m0:00:00\u001b[0m\n",
            "\u001b[?25hRequirement already satisfied: certifi in /usr/local/lib/python3.10/dist-packages (from yt-dlp) (2022.12.7)\n",
            "Collecting brotli (from yt-dlp)\n",
            "  Downloading Brotli-1.0.9-cp310-cp310-manylinux_2_5_x86_64.manylinux1_x86_64.manylinux_2_12_x86_64.manylinux2010_x86_64.whl (2.7 MB)\n",
            "\u001b[2K     \u001b[90m━━━━━━━━━━━━━━━━━━━━━━━━━━━━━━━━━━━━━━━━\u001b[0m \u001b[32m2.7/2.7 MB\u001b[0m \u001b[31m77.3 MB/s\u001b[0m eta \u001b[36m0:00:00\u001b[0m\n",
            "\u001b[?25hInstalling collected packages: brotli, websockets, pycryptodomex, mutagen, yt-dlp\n",
            "Successfully installed brotli-1.0.9 mutagen-1.46.0 pycryptodomex-3.18.0 websockets-11.0.3 yt-dlp-2023.3.4\n"
          ]
        }
      ]
    },
    {
      "cell_type": "markdown",
      "source": [
        "## Add Google Drive Access \n",
        "(at Google Drive/Decipher)"
      ],
      "metadata": {
        "id": "TDDTv7lzgeWN"
      }
    },
    {
      "cell_type": "code",
      "source": [
        "from google.colab import drive\n",
        "import os\n",
        "\n",
        "path = '/content/gdrive/MyDrive/decipher'\n",
        "drive.mount('/content/gdrive')\n",
        "\n",
        "if not os.path.exists(path):\n",
        "  os.mkdir(path)"
      ],
      "metadata": {
        "id": "TyweSbjSgib8",
        "colab": {
          "base_uri": "https://localhost:8080/"
        },
        "outputId": "99aa9115-e7ef-4cb7-ee03-43c609baf286"
      },
      "execution_count": 2,
      "outputs": [
        {
          "output_type": "stream",
          "name": "stdout",
          "text": [
            "Mounted at /content/gdrive\n"
          ]
        }
      ]
    },
    {
      "cell_type": "markdown",
      "source": [
        "# Download the YouTube Video using yt-dlp"
      ],
      "metadata": {
        "id": "hKN06IJlM6ql"
      }
    },
    {
      "cell_type": "markdown",
      "source": [
        "# Settings"
      ],
      "metadata": {
        "id": "VRuRUqwUUSy1"
      }
    },
    {
      "cell_type": "code",
      "source": [
        "YouTube_Video_Link = \"https://www.youtube.com/watch?v=yCTSOAy3vvg\" #@param {type:\"string\"}\n",
        "new_filename = \"I Ordered Pizza From the Nintendo Wii (and you can too)\" #@param {type:\"string\"}\n",
        "# Change it to srt file type\n",
        "new_filename = os.path.splitext(new_filename)[0] + \".srt\"\n",
        "shutdown_after_complete = \"yes\" #@param ['yes','no']"
      ],
      "metadata": {
        "id": "dgS0XmHnUWn4"
      },
      "execution_count": 3,
      "outputs": []
    },
    {
      "cell_type": "code",
      "source": [
        "import yt_dlp\n",
        "\n",
        "ydl_opts = {\n",
        "    'format': 'bestaudio/best',\n",
        "    'postprocessors': [{\n",
        "        'key': 'FFmpegExtractAudio',\n",
        "        'preferredcodec': 'aac',\n",
        "        'preferredquality': '192',\n",
        "    }],\n",
        "        'outtmpl': 'content/audio',\n",
        "}\n",
        "with yt_dlp.YoutubeDL(ydl_opts) as ydl:\n",
        "    ydl.download([YouTube_Video_Link])"
      ],
      "metadata": {
        "id": "Pjp5n1YrhV25",
        "colab": {
          "base_uri": "https://localhost:8080/"
        },
        "outputId": "77ba1926-1c3b-45f3-b18e-89b5e6d076aa"
      },
      "execution_count": 4,
      "outputs": [
        {
          "output_type": "stream",
          "name": "stdout",
          "text": [
            "[youtube] Extracting URL: https://www.youtube.com/watch?v=yCTSOAy3vvg\n",
            "[youtube] yCTSOAy3vvg: Downloading webpage\n",
            "[youtube] yCTSOAy3vvg: Downloading android player API JSON\n",
            "[youtube] yCTSOAy3vvg: Downloading player e50626d8\n",
            "[info] yCTSOAy3vvg: Downloading 1 format(s): 251\n",
            "[dashsegments] Total fragments: 1\n",
            "[download] Destination: content/audio\n",
            "[download] 100% of    7.82MiB in 00:00:00 at 63.30MiB/s              \n",
            "[ExtractAudio] Destination: content/audio.m4a\n",
            "Deleting original file content/audio (pass -k to keep)\n"
          ]
        }
      ]
    },
    {
      "cell_type": "markdown",
      "source": [
        "# Transcribe the video"
      ],
      "metadata": {
        "id": "-i6ak-UHNASv"
      }
    },
    {
      "cell_type": "code",
      "source": [
        "input = \"content/audio.m4a\"\n",
        "output_dir = \"/content/gdrive/MyDrive/decipher/result\"\n",
        "model = \"medium\" #@param ['tiny.en','tiny','base.en','base','small.en','small','medium.en','medium','large-v1','large-v2','large']\n",
        "language = \"\"\n",
        "task = \"transcribe\"\n",
        "subtitle_action = \"None\"\n",
        "\n",
        "from decipher.action import transcribe\n",
        "import os\n",
        "\n",
        "transcribe(\n",
        "    input, \n",
        "    output_dir,\n",
        "    model,\n",
        "    language if language else None,\n",
        "    task,\n",
        "    subtitle_action if subtitle_action != \"None\" else None\n",
        ")\n",
        "\n"
      ],
      "metadata": {
        "colab": {
          "base_uri": "https://localhost:8080/"
        },
        "id": "Lf-sGFcgNIWH",
        "outputId": "373b630a-8391-4a27-c341-ccbaa31fa9b6"
      },
      "execution_count": 5,
      "outputs": [
        {
          "output_type": "stream",
          "name": "stdout",
          "text": [
            "Converting audio.m4a to audio.aac...\n"
          ]
        },
        {
          "output_type": "stream",
          "name": "stderr",
          "text": [
            "audio.m4a: 100%|██████████| 464/464 [00:00<00:00, 229121.39 seconds/s]\n",
            "100%|█████████████████████████████████████| 1.42G/1.42G [00:33<00:00, 46.2MiB/s]\n"
          ]
        },
        {
          "output_type": "stream",
          "name": "stdout",
          "text": [
            "Detecting language using up to the first 30 seconds. Use `--language` to specify the language\n",
            "Detected language: English\n",
            "[00:00.000 --> 00:04.320]  So here's a sentence I never thought I would say in 2023.\n",
            "[00:04.320 --> 00:11.240]  I ordered this pizza from the Nintendo Wii, a console that is almost 17 years old.\n",
            "[00:11.240 --> 00:13.400]  Is it the easiest way to order a pizza?\n",
            "[00:13.400 --> 00:14.640]  Well, no.\n",
            "[00:14.640 --> 00:17.800]  But when has this channel ever been known for doing things the easy way?\n",
            "[00:17.800 --> 00:20.440]  Hello everybody and welcome back to another video.\n",
            "[00:20.440 --> 00:24.360]  You know, we've done a decent amount of Wii modding stuff on the channel recently,\n",
            "[00:24.360 --> 00:28.160]  but what I'm going to show you today originally didn't require any of that,\n",
            "[00:28.160 --> 00:33.320]  because this was an official service made available by Nintendo in the Wii shop.\n",
            "[00:33.320 --> 00:36.280]  It's called the Demaille channel, and if you've never heard of it,\n",
            "[00:36.280 --> 00:40.520]  it's probably because you didn't live in Japan back in 2009 when it was released.\n",
            "[00:40.520 --> 00:44.720]  That's right, this is yet another case of Nintendo giving cool stuff to their home country,\n",
            "[00:44.720 --> 00:46.000]  which is understandable.\n",
            "[00:46.000 --> 00:50.640]  I mean, this was done in partnership with a Japanese delivery company called Demaille-Con,\n",
            "[00:50.640 --> 00:53.640]  which is where the logo and name of the channel come from.\n",
            "[00:53.680 --> 00:58.240]  In English, it translates to delivery channel, and it was pretty simple to use.\n",
            "[00:58.240 --> 01:00.600]  You would select what type of food you wanted to order,\n",
            "[01:00.600 --> 01:03.760]  or use this roulette button to have the channel decide for you,\n",
            "[01:03.760 --> 01:08.160]  and then just pick the restaurant you wanted to order from and the menu items you wanted to get.\n",
            "[01:08.160 --> 01:12.480]  After you ordered, you'd receive a confirmation, which is also sent to the Wii message board.\n",
            "[01:12.480 --> 01:16.080]  And none of your payment info was processed through this channel.\n",
            "[01:16.080 --> 01:19.080]  You had to pay your delivery driver when your food arrived.\n",
            "[01:19.080 --> 01:23.440]  So, if you're planning on paying with Wii points, well, you're out of luck.\n",
            "[01:23.480 --> 01:29.160]  The Demaille channel and its lesser-known Wii U counterpart functioned until March of 2017,\n",
            "[01:29.160 --> 01:31.160]  when Nintendo took the service offline.\n",
            "[01:31.160 --> 01:33.160]  But that doesn't mean it's gone forever,\n",
            "[01:33.160 --> 01:38.400]  because thanks to the work of the developers behind Wii Link 24, a Wii revival project,\n",
            "[01:38.400 --> 01:43.600]  this channel, along with some of the other Japan-exclusive ones, can be used once again.\n",
            "[01:43.600 --> 01:45.880]  And you don't even need to have a Japanese Wii.\n",
            "[01:45.880 --> 01:50.000]  And although it's not as easy as just typing a delivery address into an app on your phone,\n",
            "[01:50.000 --> 01:52.440]  it really isn't all that difficult.\n",
            "[01:52.440 --> 01:53.880]  So, here's how you do it.\n",
            "[01:53.880 --> 01:57.280]  First, you need to have the homebrew channel installed on your Wii.\n",
            "[01:57.280 --> 02:00.800]  If you haven't done that, head on over to this link and follow the steps.\n",
            "[02:00.800 --> 02:04.440]  You'll also need a Discord account to join the Wii Link 24 server,\n",
            "[02:04.440 --> 02:09.840]  an SD card formatted as FAT32, and a Windows, Mac, or Linux-based computer.\n",
            "[02:09.840 --> 02:14.280]  On your computer, head on over to wiilink24.com and click on the install button.\n",
            "[02:14.280 --> 02:17.720]  Select whatever operating system you're running and download the application.\n",
            "[02:17.720 --> 02:21.120]  Before you launch it, insert your SD card into your computer,\n",
            "[02:21.160 --> 02:23.800]  and make sure that the application recognizes it.\n",
            "[02:23.800 --> 02:27.160]  If it doesn't, press M to manually specify the path.\n",
            "[02:27.160 --> 02:29.000]  Then press 1 to begin.\n",
            "[02:29.000 --> 02:32.840]  Here you can choose to get the original Japanese language version of the channels,\n",
            "[02:32.840 --> 02:34.720]  or the English translation.\n",
            "[02:34.720 --> 02:38.600]  But note that if you actually want to order real food, you'll need the English version,\n",
            "[02:38.600 --> 02:40.040]  so that's what I'm gonna get.\n",
            "[02:40.040 --> 02:42.720]  Next, you'll choose which version of the food channel you want.\n",
            "[02:42.720 --> 02:48.440]  If you live in the US or Canada, you'll only be able to order from Domino's as of now, so hit 2.\n",
            "[02:48.480 --> 02:52.560]  If you're in any of these countries, you can use the food channel with Deliveroo,\n",
            "[02:52.560 --> 02:55.560]  giving you more ordering options, so select 3.\n",
            "[02:55.560 --> 02:57.960]  This does require some additional prep work, though,\n",
            "[02:57.960 --> 03:01.480]  as you'll need to download the Deliveroo Setup app from Wii Link sites\n",
            "[03:01.480 --> 03:03.520]  who link with your Deliveroo account.\n",
            "[03:03.520 --> 03:09.040]  And yes, sorry to anybody living in Japan, but this revival service isn't available there.\n",
            "[03:09.040 --> 03:13.400]  But there is this fake ordering version of the channel if you want to mess around with the interface.\n",
            "[03:13.400 --> 03:16.960]  Next, select your region for the Nintendo and Forkast channels,\n",
            "[03:16.960 --> 03:21.640]  and then choose if you're using a regular Wii slash emulator or the Wii U's VWii.\n",
            "[03:21.640 --> 03:27.000]  Then verify once more that the app has your SD card path correct, and let it do its thing.\n",
            "[03:27.000 --> 03:31.560]  Once it's finished, hit 3 to quit, eject your SD card, and put it into your Wii.\n",
            "[03:31.560 --> 03:35.800]  When you open up the homebrew channel, you should now see Wii Mod Lite in the list of apps\n",
            "[03:35.800 --> 03:37.520]  if you didn't already have it installed.\n",
            "[03:37.520 --> 03:41.680]  Open it up, go to WAD Manager, and choose the SD card as the source.\n",
            "[03:41.680 --> 03:43.920]  Then a list of WAD files will show up.\n",
            "[03:43.960 --> 03:48.200]  To order food, all you need are the food channel and Wii Link SPD WADs,\n",
            "[03:48.200 --> 03:53.120]  but I'm going to install all of them as Wii Link 24 does revive some additional services too.\n",
            "[03:53.120 --> 03:55.960]  Use the D-pad on your Wii Remote to move the cursor around,\n",
            "[03:55.960 --> 03:59.440]  and press the plus button to mark the desired WADs for installation.\n",
            "[03:59.440 --> 04:01.200]  Then hit A to install them.\n",
            "[04:01.200 --> 04:04.200]  After it's done, press the home button to return to the homebrew channel,\n",
            "[04:04.200 --> 04:08.960]  and then open up the Get Console ID app and write down what your console ID is.\n",
            "[04:08.960 --> 04:13.560]  This is needed to be sent in the Discord server to allow the channel to work with your console.\n",
            "[04:13.600 --> 04:16.720]  So join the Discord server and go through the onboarding process,\n",
            "[04:16.720 --> 04:20.880]  making sure to select the My Channel Real Ordering for the first question.\n",
            "[04:20.880 --> 04:23.480]  You can select the additional options too if you like.\n",
            "[04:23.480 --> 04:27.840]  Then find the Domino's Chat channel, click Complete and agree to the server rules,\n",
            "[04:27.840 --> 04:31.080]  and type slash dominoes followed by your console ID.\n",
            "[04:31.080 --> 04:34.600]  If it worked, you'll receive a message from the bot telling you you're good to go.\n",
            "[04:34.600 --> 04:37.760]  Then just hop back over to your Wii and open the food channel.\n",
            "[04:40.040 --> 04:43.080]  After you get through the welcome prompts and agree to the terms of use,\n",
            "[04:43.080 --> 04:46.400]  the channel will display an address card with placeholder info.\n",
            "[04:46.400 --> 04:49.840]  Click No and you'll be taken to the Address Information screen.\n",
            "[04:49.840 --> 04:53.280]  All you have to do is fill out the necessary info and click Done.\n",
            "[04:53.280 --> 04:56.280]  Then click Demi to be taken back to the food channel.\n",
            "[04:56.280 --> 05:00.640]  It'll then ask you to confirm your info again, so double check to make sure it's right.\n",
            "[05:00.640 --> 05:04.600]  It's worth noting that the state abbreviation for Texas will always appear\n",
            "[05:04.600 --> 05:07.560]  at the beginning of the second line, as this is a placeholder.\n",
            "[05:07.560 --> 05:12.160]  But the zip code, city, and street address should match what you've entered in on the previous screen.\n",
            "[05:12.200 --> 05:13.960]  And now comes the fun part.\n",
            "[05:13.960 --> 05:17.240]  Click Order and you'll be prompted to select your area of residence.\n",
            "[05:17.240 --> 05:20.280]  First choose your country, then state, then city.\n",
            "[05:20.280 --> 05:23.720]  If you live in a small town, there's a good chance it won't show up here,\n",
            "[05:23.720 --> 05:27.320]  so just click on any of the cities listed as it doesn't actually matter.\n",
            "[05:27.320 --> 05:31.920]  If you did everything correctly, you'll see a single pizza category on the next screen.\n",
            "[05:31.920 --> 05:36.040]  Click it and it will display a listing of dominoes locations closest to your address,\n",
            "[05:36.040 --> 05:38.680]  with the estimated amount of time it will take for delivery.\n",
            "[05:38.720 --> 05:41.760]  Select the one you want, click See Menu, and just like that,\n",
            "[05:41.760 --> 05:44.960]  you're browsing the entire Domino's Menu on your Wii.\n",
            "[05:44.960 --> 05:47.400]  So just go through and pick whatever you're in the mood for.\n",
            "[05:47.400 --> 05:51.200]  I went with a medium build-your-own pizza with pepperoni and mushrooms.\n",
            "[05:51.200 --> 05:54.840]  You'll have to choose your sauce as well, and if you want the correct option,\n",
            "[05:54.840 --> 05:58.160]  don't pick the first one or also end up with honey barbecue.\n",
            "[05:58.160 --> 06:01.800]  Oh, and it's worth noting that the price will show up in Japanese yen,\n",
            "[06:01.800 --> 06:04.480]  but it's really in whatever your local currency is.\n",
            "[06:04.480 --> 06:06.920]  Otherwise, I'd order like way too many of these.\n",
            "[06:06.960 --> 06:10.040]  Anyways, once you have what you want, hit Add to Basket.\n",
            "[06:10.040 --> 06:13.840]  There is an additional $5 delivery charge that isn't itemized here,\n",
            "[06:13.840 --> 06:15.920]  so that's why the total is what it is.\n",
            "[06:15.920 --> 06:19.320]  When you hit Next, you'll be able to confirm your order before submitting it.\n",
            "[06:19.320 --> 06:23.480]  Just like the original channel, your payment information is not processed through here,\n",
            "[06:23.480 --> 06:25.360]  so you won't have to enter any of that,\n",
            "[06:25.360 --> 06:28.840]  but you will need cash to pay and sip the driver when they arrive.\n",
            "[06:28.840 --> 06:31.200]  And now, for the moment of truth.\n",
            "[06:34.680 --> 06:35.840]  We got it, people!\n",
            "[06:35.880 --> 06:40.840]  I mean, well, you already knew that, but it's still nuts to me that this actually worked.\n",
            "[06:40.840 --> 06:44.960]  And if you're wondering, the Food Channel does keep a record of your deliveries,\n",
            "[06:44.960 --> 06:48.120]  and it will even pop a letter on your Wii message board,\n",
            "[06:48.120 --> 06:50.440]  just like it did back in 2009.\n",
            "[06:50.440 --> 06:56.520]  That way, you'll always have proof that you've successfully ordered pizza from the Nintendo Wii.\n",
            "[06:56.520 --> 07:00.720]  So, that's how you do it, and that's me going through the process.\n",
            "[07:00.720 --> 07:03.440]  All I have to say is, go try this out if you have a Wii.\n",
            "[07:03.440 --> 07:05.040]  I know it takes a little while to set up,\n",
            "[07:05.040 --> 07:09.920]  but it's just awesome that there's enough interest in this for people to actually spend the time\n",
            "[07:09.920 --> 07:12.720]  to revive the service and make it usable today.\n",
            "[07:12.720 --> 07:18.000]  So, huge thanks to the Wii Link developers, and huge thanks to all of you for watching.\n",
            "[07:18.000 --> 07:21.080]  If you enjoyed this one, be sure to give it a thumbs up and get subscribed,\n",
            "[07:21.080 --> 07:24.400]  and as always, I will see you all in the next video.\n",
            "Output -> /content/gdrive/MyDrive/decipher/result\n"
          ]
        }
      ]
    },
    {
      "cell_type": "markdown",
      "source": [
        "# Rename the srt file"
      ],
      "metadata": {
        "id": "GTwjJSL5TiZX"
      }
    },
    {
      "cell_type": "code",
      "source": [
        "current_file_path = '/content/gdrive/MyDrive/decipher/result/audio.srt'\n",
        "directory_path = os.path.dirname(current_file_path)\n",
        "file_name = os.path.basename(current_file_path)\n",
        "new_file_path = os.path.join(directory_path, new_filename)\n",
        "os.rename(current_file_path, new_file_path)"
      ],
      "metadata": {
        "id": "w04Kx70fTuxU"
      },
      "execution_count": 6,
      "outputs": []
    },
    {
      "cell_type": "markdown",
      "source": [
        "# Auto Shutdown the Runtime"
      ],
      "metadata": {
        "id": "sIG3oGLlfN1U"
      }
    },
    {
      "cell_type": "code",
      "source": [
        "if shutdown_after_complete.lower() == \"yes\":\n",
        "    from google.colab import runtime\n",
        "    runtime.unassign()"
      ],
      "metadata": {
        "id": "CZ9tEuqkfTUn"
      },
      "execution_count": 7,
      "outputs": []
    }
  ]
}